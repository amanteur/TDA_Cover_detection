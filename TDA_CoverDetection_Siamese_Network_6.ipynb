{
  "nbformat": 4,
  "nbformat_minor": 0,
  "metadata": {
    "colab": {
      "name": "TDA_CoverDetection_Siamese_Network_6.ipynb",
      "provenance": [],
      "collapsed_sections": [],
      "authorship_tag": "ABX9TyMpzHYNT4rQRsG50pyTRBHj",
      "include_colab_link": true
    },
    "kernelspec": {
      "name": "python3",
      "display_name": "Python 3"
    },
    "language_info": {
      "name": "python"
    }
  },
  "cells": [
    {
      "cell_type": "markdown",
      "metadata": {
        "id": "view-in-github",
        "colab_type": "text"
      },
      "source": [
        "<a href=\"https://colab.research.google.com/github/amanteur/TDA_Cover_detection/blob/main/TDA_CoverDetection_Siamese_Network_6.ipynb\" target=\"_parent\"><img src=\"https://colab.research.google.com/assets/colab-badge.svg\" alt=\"Open In Colab\"/></a>"
      ]
    },
    {
      "cell_type": "code",
      "metadata": {
        "id": "if7Gl_k2L_-N"
      },
      "source": [
        "import numpy as np\n",
        "import os\n",
        "import pandas as pd\n",
        "from sklearn.model_selection import train_test_split\n",
        "import matplotlib.pyplot as plt\n",
        "import random\n",
        "import tensorflow as tf\n",
        "from pathlib import Path\n",
        "from tensorflow.keras import applications\n",
        "from tensorflow.keras import layers\n",
        "from tensorflow.keras import losses\n",
        "from tensorflow.keras import optimizers\n",
        "from tensorflow.keras import metrics\n",
        "from tensorflow.keras import Model\n",
        "from tensorflow.keras import Input\n"
      ],
      "execution_count": null,
      "outputs": []
    },
    {
      "cell_type": "code",
      "metadata": {
        "colab": {
          "base_uri": "https://localhost:8080/"
        },
        "id": "Et2c8p_CMIlS",
        "outputId": "f8105a14-e1af-4c48-e2b0-9a3e5eea7137"
      },
      "source": [
        "from google.colab import drive\n",
        "drive.mount('/content/drive')"
      ],
      "execution_count": null,
      "outputs": [
        {
          "output_type": "stream",
          "text": [
            "Mounted at /content/drive\n"
          ],
          "name": "stdout"
        }
      ]
    },
    {
      "cell_type": "markdown",
      "metadata": {
        "id": "oiushyHj42DB"
      },
      "source": [
        "#Extracting data"
      ]
    },
    {
      "cell_type": "code",
      "metadata": {
        "id": "JOv0RAXE9byz"
      },
      "source": [
        "root_dir = '/content/drive/MyDrive/Colab Notebooks/CourseWork/pers_feat_datasets/'"
      ],
      "execution_count": null,
      "outputs": []
    },
    {
      "cell_type": "code",
      "metadata": {
        "id": "ai-J7vye9TtB"
      },
      "source": [
        "df_dict = {}\n",
        "for _, _, files in os.walk(root_dir):\n",
        "  for file in files:\n",
        "    name = file.split('.')[0]\n",
        "    df = pd.read_json(root_dir + file)\n",
        "    df_dict [name] = df"
      ],
      "execution_count": null,
      "outputs": []
    },
    {
      "cell_type": "markdown",
      "metadata": {
        "id": "icqD5weHBj4T"
      },
      "source": [
        "#Make anchor and positive samples"
      ]
    },
    {
      "cell_type": "code",
      "metadata": {
        "colab": {
          "base_uri": "https://localhost:8080/"
        },
        "id": "C8bNM6EMJtlr",
        "outputId": "76bdc680-4c35-4194-9fdd-0618e430ebf5"
      },
      "source": [
        "!pip install gudhi"
      ],
      "execution_count": null,
      "outputs": [
        {
          "output_type": "stream",
          "text": [
            "Collecting gudhi\n",
            "\u001b[?25l  Downloading https://files.pythonhosted.org/packages/4e/02/84538da083305b7634886149331150399d6b5d9e4043852e4bfee3256468/gudhi-3.4.1.post1-cp37-cp37m-manylinux2014_x86_64.whl (28.2MB)\n",
            "\u001b[K     |████████████████████████████████| 28.2MB 116kB/s \n",
            "\u001b[?25hRequirement already satisfied: numpy>=1.9 in /usr/local/lib/python3.7/dist-packages (from gudhi) (1.19.5)\n",
            "Installing collected packages: gudhi\n",
            "Successfully installed gudhi-3.4.1.post1\n"
          ],
          "name": "stdout"
        }
      ]
    },
    {
      "cell_type": "code",
      "metadata": {
        "id": "dwh4xxpOJbjw"
      },
      "source": [
        "from sklearn.preprocessing import MinMaxScaler\n",
        "from sklearn.decomposition import PCA\n",
        "import gudhi as gd\n",
        "import gudhi.representations as gdr\n",
        "\n",
        "def data_preprocessing(data):\n",
        "  data_scaled = gdr.DiagramSelector(use=True, point_type=\"finite\").fit_transform(data)\n",
        "  data_scaled = gdr.DiagramScaler(use=True, scalers=[([0,1], MinMaxScaler())]).fit_transform(data_scaled)\n",
        "  data_scaled = gdr.ProminentPoints(use=True, num_pts=30).fit_transform(data_scaled)\n",
        "  return data_scaled"
      ],
      "execution_count": null,
      "outputs": []
    },
    {
      "cell_type": "code",
      "metadata": {
        "id": "_xNH0lgzBjSx"
      },
      "source": [
        "def anchor_pos_neg_dfs(df_dict, df_name='ms_orig', preffered_data='Silhouette'):\n",
        "\n",
        "  f_list = []\n",
        "  df = df_dict[df_name]\n",
        "  preffered_column = [c for c in df.columns if preffered_data in c][0]\n",
        "  #for diagrams\n",
        "  # for i, row in df.iterrows():\n",
        "  #   diag = [np.array(row[preffered_column])]\n",
        "  #   diag = data_preprocessing(diag)\n",
        "  #   diag_list.append(diag[0])\n",
        "  for i, row in df.iterrows():\n",
        "    f = np.array(row[preffered_column]).flatten()\n",
        "    f_list.append(f)\n",
        "\n",
        "  anchors_df = df.drop_duplicates(subset=['name'])\n",
        "  anchor_ids = anchors_df.index\n",
        "  pos_df = df.drop( df.index[anchor_ids]).drop_duplicates(subset=['name'])\n",
        "  pos_ids = pos_df.index\n",
        "\n",
        "  anchor_diags = [f_list[i] for i in anchor_ids]\n",
        "  pos_diags = [f_list[i] for i in pos_ids]\n",
        "  labels = anchors_df.name.tolist()\n",
        "  return anchor_diags, pos_diags, labels"
      ],
      "execution_count": null,
      "outputs": []
    },
    {
      "cell_type": "code",
      "metadata": {
        "id": "DJQkF8lP-VlC"
      },
      "source": [
        "anchor, pos, labels = anchor_pos_neg_dfs(df_dict)"
      ],
      "execution_count": null,
      "outputs": []
    },
    {
      "cell_type": "code",
      "metadata": {
        "id": "mrXNfhmoUGUd"
      },
      "source": [
        "songs_count = len(anchor)"
      ],
      "execution_count": null,
      "outputs": []
    },
    {
      "cell_type": "code",
      "metadata": {
        "id": "jYbpwT6RI6m8"
      },
      "source": [
        "anchor_dataset = tf.data.Dataset.from_tensor_slices(anchor)\n",
        "pos_dataset = tf.data.Dataset.from_tensor_slices(pos)"
      ],
      "execution_count": null,
      "outputs": []
    },
    {
      "cell_type": "code",
      "metadata": {
        "id": "9ErzZr0OEv0W"
      },
      "source": [
        "neg = anchor + pos\n",
        "np.random.RandomState(seed=32).shuffle(neg)\n",
        "\n",
        "negative_dataset = tf.data.Dataset.from_tensor_slices(neg)\n",
        "negative_dataset = negative_dataset.shuffle(buffer_size=4096)\n",
        "\n",
        "dataset = tf.data.Dataset.zip((anchor_dataset, pos_dataset, negative_dataset))\n",
        "dataset = dataset.shuffle(buffer_size=1024)"
      ],
      "execution_count": null,
      "outputs": []
    },
    {
      "cell_type": "code",
      "metadata": {
        "colab": {
          "base_uri": "https://localhost:8080/"
        },
        "id": "Q_PzfSIyfOA2",
        "outputId": "44b89e76-1eda-4786-a44c-8e3ed4ee417c"
      },
      "source": [
        "dataset"
      ],
      "execution_count": null,
      "outputs": [
        {
          "output_type": "execute_result",
          "data": {
            "text/plain": [
              "<ShuffleDataset shapes: ((500,), (500,), (500,)), types: (tf.float64, tf.float64, tf.float64)>"
            ]
          },
          "metadata": {
            "tags": []
          },
          "execution_count": 13
        }
      ]
    },
    {
      "cell_type": "code",
      "metadata": {
        "id": "tQ9cgRO-TkYC"
      },
      "source": [
        "#train and test\n",
        "train_dataset = dataset.take(round(songs_count * 0.6))\n",
        "val_dataset = dataset.skip(round(songs_count * 0.7))\n",
        "val_dataset = val_dataset.skip(round(songs_count * 0.9))\n",
        "test_dataset = dataset.skip(round(songs_count * 0.9))\n",
        "\n",
        "train_dataset = train_dataset.batch(32, drop_remainder=False)\n",
        "train_dataset = train_dataset.prefetch(8)\n",
        "\n",
        "val_dataset = val_dataset.batch(32, drop_remainder=False)\n",
        "val_dataset = val_dataset.prefetch(8)\n",
        "\n",
        "test_dataset = test_dataset.batch(32, drop_remainder=False)\n",
        "test_dataset = test_dataset.prefetch(8)"
      ],
      "execution_count": null,
      "outputs": []
    },
    {
      "cell_type": "code",
      "metadata": {
        "colab": {
          "base_uri": "https://localhost:8080/"
        },
        "id": "boVMuK65fQiL",
        "outputId": "d9d0b36e-3148-42b9-a94c-ec7b17b19e28"
      },
      "source": [
        "train_dataset"
      ],
      "execution_count": null,
      "outputs": [
        {
          "output_type": "execute_result",
          "data": {
            "text/plain": [
              "<PrefetchDataset shapes: ((None, 500), (None, 500), (None, 500)), types: (tf.float64, tf.float64, tf.float64)>"
            ]
          },
          "metadata": {
            "tags": []
          },
          "execution_count": 15
        }
      ]
    },
    {
      "cell_type": "code",
      "metadata": {
        "colab": {
          "base_uri": "https://localhost:8080/",
          "height": 524
        },
        "id": "dlCxSFz7Bcli",
        "outputId": "aaef43b3-e554-4014-9aa5-8f4a1f92808c"
      },
      "source": [
        "def visualize(anchor, positive, negative):\n",
        "    \"\"\"Visualize a few triplets from the supplied batches.\"\"\"\n",
        "\n",
        "    def show(ax, image):\n",
        "        ax.plot(image)\n",
        "        ax.get_xaxis().set_visible(False)\n",
        "        ax.get_yaxis().set_visible(False)\n",
        "\n",
        "    fig = plt.figure(figsize=(9, 9))\n",
        "\n",
        "    axs = fig.subplots(3, 3)\n",
        "    for i in range(3):\n",
        "        show(axs[i, 0], anchor[i])\n",
        "        show(axs[i, 1], positive[i])\n",
        "        show(axs[i, 2], negative[i])\n",
        "\n",
        "\n",
        "visualize(*list(train_dataset.take(1).as_numpy_iterator())[0])"
      ],
      "execution_count": null,
      "outputs": [
        {
          "output_type": "display_data",
          "data": {
            "image/png": "[encoded data removed]",
            "text/plain": [
              "<Figure size 648x648 with 9 Axes>"
            ]
          },
          "metadata": {
            "tags": [],
            "needs_background": "light"
          }
        }
      ]
    },
    {
      "cell_type": "markdown",
      "metadata": {
        "id": "5k8MWQiTbtRi"
      },
      "source": [
        "# Model"
      ]
    },
    {
      "cell_type": "code",
      "metadata": {
        "id": "JVeO9TJVhdwi"
      },
      "source": [
        "target_shape = (500,)"
      ],
      "execution_count": null,
      "outputs": []
    },
    {
      "cell_type": "code",
      "metadata": {
        "colab": {
          "base_uri": "https://localhost:8080/"
        },
        "id": "usCz0_LJUPJr",
        "outputId": "a6f2e416-4067-4115-9b92-7e5bcc8a993b"
      },
      "source": [
        "nn_input = Input(shape=(500,), name='INPUT')\n",
        "flatten = layers.Flatten()(nn_input)\n",
        "dense1 = layers.Dense(256, activation=\"relu\", name='Dense1')(flatten)\n",
        "dense1 = layers.BatchNormalization(name='Batch1')(dense1)\n",
        "dense2 = layers.Dense(128, activation=\"relu\", name='Dense2')(dense1)\n",
        "dense2 = layers.BatchNormalization(name='Batch2')(dense2)\n",
        "output = layers.Dense(128, name='Dense3')(dense2)\n",
        "\n",
        "embedding = Model(nn_input, output, name=\"Embedding\")\n",
        "print(embedding.summary())"
      ],
      "execution_count": null,
      "outputs": [
        {
          "output_type": "stream",
          "text": [
            "Model: \"Embedding\"\n",
            "_________________________________________________________________\n",
            "Layer (type)                 Output Shape              Param #   \n",
            "=================================================================\n",
            "INPUT (InputLayer)           [(None, 500)]             0         \n",
            "_________________________________________________________________\n",
            "flatten (Flatten)            (None, 500)               0         \n",
            "_________________________________________________________________\n",
            "Dense1 (Dense)               (None, 256)               128256    \n",
            "_________________________________________________________________\n",
            "Batch1 (BatchNormalization)  (None, 256)               1024      \n",
            "_________________________________________________________________\n",
            "Dense2 (Dense)               (None, 128)               32896     \n",
            "_________________________________________________________________\n",
            "Batch2 (BatchNormalization)  (None, 128)               512       \n",
            "_________________________________________________________________\n",
            "Dense3 (Dense)               (None, 128)               16512     \n",
            "=================================================================\n",
            "Total params: 179,200\n",
            "Trainable params: 178,432\n",
            "Non-trainable params: 768\n",
            "_________________________________________________________________\n",
            "None\n"
          ],
          "name": "stdout"
        }
      ]
    },
    {
      "cell_type": "code",
      "metadata": {
        "id": "QvtEpUnQcM34"
      },
      "source": [
        "class DistanceLayer(layers.Layer):\n",
        "    \"\"\"\n",
        "    This layer is responsible for computing the distance between the anchor\n",
        "    embedding and the positive embedding, and the anchor embedding and the\n",
        "    negative embedding.\n",
        "    \"\"\"\n",
        "\n",
        "    def __init__(self, **kwargs):\n",
        "        super().__init__(**kwargs)\n",
        "\n",
        "    def call(self, anchor, positive, negative):\n",
        "        ap_distance = tf.reduce_sum(tf.square(anchor - positive), -1)\n",
        "        an_distance = tf.reduce_sum(tf.square(anchor - negative), -1)\n",
        "        return (ap_distance, an_distance)\n",
        "\n",
        "\n",
        "anchor_input = layers.Input(name=\"anchor\", shape=target_shape)\n",
        "positive_input = layers.Input(name=\"positive\", shape=target_shape)\n",
        "negative_input = layers.Input(name=\"negative\", shape=target_shape)\n",
        "\n",
        "distances = DistanceLayer()(\n",
        "    embedding(anchor_input),\n",
        "    embedding(positive_input),\n",
        "    embedding(negative_input),\n",
        ")\n",
        "\n",
        "siamese_network = Model(\n",
        "    inputs=[anchor_input, positive_input, negative_input], outputs=distances\n",
        ")"
      ],
      "execution_count": null,
      "outputs": []
    },
    {
      "cell_type": "code",
      "metadata": {
        "id": "K4tT_GkTcZCF"
      },
      "source": [
        "class SiameseModel(Model):\n",
        "    \"\"\"The Siamese Network model with a custom training and testing loops.\n",
        "\n",
        "    Computes the triplet loss using the three embeddings produced by the\n",
        "    Siamese Network.\n",
        "\n",
        "    The triplet loss is defined as:\n",
        "       L(A, P, N) = max(‖f(A) - f(P)‖² - ‖f(A) - f(N)‖² + margin, 0)\n",
        "    \"\"\"\n",
        "\n",
        "    def __init__(self, siamese_network, margin=0.5):\n",
        "        super(SiameseModel, self).__init__()\n",
        "        self.siamese_network = siamese_network\n",
        "        self.margin = margin\n",
        "        self.loss_tracker = metrics.Mean(name=\"loss\")\n",
        "\n",
        "    def call(self, inputs):\n",
        "        return self.siamese_network(inputs)\n",
        "\n",
        "    def train_step(self, data):\n",
        "        # GradientTape is a context manager that records every operation that\n",
        "        # you do inside. We are using it here to compute the loss so we can get\n",
        "        # the gradients and apply them using the optimizer specified in\n",
        "        # `compile()`.\n",
        "        with tf.GradientTape() as tape:\n",
        "            loss = self._compute_loss(data)\n",
        "\n",
        "        # Storing the gradients of the loss function with respect to the\n",
        "        # weights/parameters.\n",
        "        gradients = tape.gradient(loss, self.siamese_network.trainable_weights)\n",
        "\n",
        "        # Applying the gradients on the model using the specified optimizer\n",
        "        self.optimizer.apply_gradients(\n",
        "            zip(gradients, self.siamese_network.trainable_weights)\n",
        "        )\n",
        "\n",
        "        # Let's update and return the training loss metric.\n",
        "        self.loss_tracker.update_state(loss)\n",
        "        return {\"loss\": self.loss_tracker.result()}\n",
        "\n",
        "    def test_step(self, data):\n",
        "        loss = self._compute_loss(data)\n",
        "\n",
        "        # Let's update and return the loss metric.\n",
        "        self.loss_tracker.update_state(loss)\n",
        "        return {\"loss\": self.loss_tracker.result()}\n",
        "\n",
        "    def _compute_loss(self, data):\n",
        "        # The output of the network is a tuple containing the distances\n",
        "        # between the anchor and the positive example, and the anchor and\n",
        "        # the negative example.\n",
        "        ap_distance, an_distance = self.siamese_network(data)\n",
        "\n",
        "        # Computing the Triplet Loss by subtracting both distances and\n",
        "        # making sure we don't get a negative value.\n",
        "        loss = ap_distance - an_distance\n",
        "        loss = tf.maximum(loss + self.margin, 0.0)\n",
        "        return loss\n",
        "\n",
        "    @property\n",
        "    def metrics(self):\n",
        "        # We need to list our metrics here so the `reset_states()` can be\n",
        "        # called automatically.\n",
        "        return [self.loss_tracker]"
      ],
      "execution_count": null,
      "outputs": []
    },
    {
      "cell_type": "code",
      "metadata": {
        "colab": {
          "base_uri": "https://localhost:8080/"
        },
        "id": "BmW6x2h2co0Q",
        "outputId": "c870c515-f274-434d-a95d-7374b1ec6bfd"
      },
      "source": [
        "siamese_model = SiameseModel(siamese_network)\n",
        "siamese_model.compile(optimizer=optimizers.Adam(0.0001))\n",
        "siamese_model.fit(train_dataset, epochs=100, validation_data=val_dataset)"
      ],
      "execution_count": null,
      "outputs": [
        {
          "output_type": "stream",
          "text": [
            "Epoch 1/100\n",
            "2/2 [==============================] - 1s 23ms/step - loss: 0.4909\n",
            "Epoch 2/100\n",
            "2/2 [==============================] - 0s 18ms/step - loss: 0.5117\n",
            "Epoch 3/100\n",
            "2/2 [==============================] - 0s 18ms/step - loss: 0.5259\n",
            "Epoch 4/100\n",
            "2/2 [==============================] - 0s 20ms/step - loss: 0.5128\n",
            "Epoch 5/100\n",
            "2/2 [==============================] - 0s 18ms/step - loss: 0.4743\n",
            "Epoch 6/100\n",
            "2/2 [==============================] - 0s 20ms/step - loss: 0.4976\n",
            "Epoch 7/100\n",
            "2/2 [==============================] - 0s 18ms/step - loss: 0.5042\n",
            "Epoch 8/100\n",
            "2/2 [==============================] - 0s 17ms/step - loss: 0.5034\n",
            "Epoch 9/100\n",
            "2/2 [==============================] - 0s 18ms/step - loss: 0.4930\n",
            "Epoch 10/100\n",
            "2/2 [==============================] - 0s 18ms/step - loss: 0.5068\n",
            "Epoch 11/100\n",
            "2/2 [==============================] - 0s 18ms/step - loss: 0.4868\n",
            "Epoch 12/100\n",
            "2/2 [==============================] - 0s 18ms/step - loss: 0.5056\n",
            "Epoch 13/100\n",
            "2/2 [==============================] - 0s 18ms/step - loss: 0.4900\n",
            "Epoch 14/100\n",
            "2/2 [==============================] - 0s 21ms/step - loss: 0.4905\n",
            "Epoch 15/100\n",
            "2/2 [==============================] - 0s 18ms/step - loss: 0.4845\n",
            "Epoch 16/100\n",
            "2/2 [==============================] - 0s 20ms/step - loss: 0.4749\n",
            "Epoch 17/100\n",
            "2/2 [==============================] - 0s 21ms/step - loss: 0.4740\n",
            "Epoch 18/100\n",
            "2/2 [==============================] - 0s 27ms/step - loss: 0.4952\n",
            "Epoch 19/100\n",
            "2/2 [==============================] - 0s 19ms/step - loss: 0.4824\n",
            "Epoch 20/100\n",
            "2/2 [==============================] - 0s 18ms/step - loss: 0.5019\n",
            "Epoch 21/100\n",
            "2/2 [==============================] - 0s 22ms/step - loss: 0.4765\n",
            "Epoch 22/100\n",
            "2/2 [==============================] - 0s 20ms/step - loss: 0.4849\n",
            "Epoch 23/100\n",
            "2/2 [==============================] - 0s 19ms/step - loss: 0.4819\n",
            "Epoch 24/100\n",
            "2/2 [==============================] - 0s 22ms/step - loss: 0.4742\n",
            "Epoch 25/100\n",
            "2/2 [==============================] - 0s 22ms/step - loss: 0.4915\n",
            "Epoch 26/100\n",
            "2/2 [==============================] - 0s 20ms/step - loss: 0.4981\n",
            "Epoch 27/100\n",
            "2/2 [==============================] - 0s 19ms/step - loss: 0.4910\n",
            "Epoch 28/100\n",
            "2/2 [==============================] - 0s 19ms/step - loss: 0.4883\n",
            "Epoch 29/100\n",
            "2/2 [==============================] - 0s 19ms/step - loss: 0.4764\n",
            "Epoch 30/100\n",
            "2/2 [==============================] - 0s 19ms/step - loss: 0.4582\n",
            "Epoch 31/100\n",
            "2/2 [==============================] - 0s 19ms/step - loss: 0.4736\n",
            "Epoch 32/100\n",
            "2/2 [==============================] - 0s 20ms/step - loss: 0.4841\n",
            "Epoch 33/100\n",
            "2/2 [==============================] - 0s 17ms/step - loss: 0.4363\n",
            "Epoch 34/100\n",
            "2/2 [==============================] - 0s 17ms/step - loss: 0.4785\n",
            "Epoch 35/100\n",
            "2/2 [==============================] - 0s 18ms/step - loss: 0.4766\n",
            "Epoch 36/100\n",
            "2/2 [==============================] - 0s 21ms/step - loss: 0.5102\n",
            "Epoch 37/100\n",
            "2/2 [==============================] - 0s 17ms/step - loss: 0.4575\n",
            "Epoch 38/100\n",
            "2/2 [==============================] - 0s 20ms/step - loss: 0.4886\n",
            "Epoch 39/100\n",
            "2/2 [==============================] - 0s 20ms/step - loss: 0.4512\n",
            "Epoch 40/100\n",
            "2/2 [==============================] - 0s 23ms/step - loss: 0.4383\n",
            "Epoch 41/100\n",
            "2/2 [==============================] - 0s 19ms/step - loss: 0.4365\n",
            "Epoch 42/100\n",
            "2/2 [==============================] - 0s 20ms/step - loss: 0.4594\n",
            "Epoch 43/100\n",
            "2/2 [==============================] - 0s 17ms/step - loss: 0.4363\n",
            "Epoch 44/100\n",
            "2/2 [==============================] - 0s 17ms/step - loss: 0.5031\n",
            "Epoch 45/100\n",
            "2/2 [==============================] - 0s 20ms/step - loss: 0.4582\n",
            "Epoch 46/100\n",
            "2/2 [==============================] - 0s 17ms/step - loss: 0.4477\n",
            "Epoch 47/100\n",
            "2/2 [==============================] - 0s 18ms/step - loss: 0.4504\n",
            "Epoch 48/100\n",
            "2/2 [==============================] - 0s 22ms/step - loss: 0.4438\n",
            "Epoch 49/100\n",
            "2/2 [==============================] - 0s 21ms/step - loss: 0.4343\n",
            "Epoch 50/100\n",
            "2/2 [==============================] - 0s 20ms/step - loss: 0.4364\n",
            "Epoch 51/100\n",
            "2/2 [==============================] - 0s 18ms/step - loss: 0.4353\n",
            "Epoch 52/100\n",
            "2/2 [==============================] - 0s 20ms/step - loss: 0.3969\n",
            "Epoch 53/100\n",
            "2/2 [==============================] - 0s 17ms/step - loss: 0.4224\n",
            "Epoch 54/100\n",
            "2/2 [==============================] - 0s 20ms/step - loss: 0.4508\n",
            "Epoch 55/100\n",
            "2/2 [==============================] - 0s 23ms/step - loss: 0.4307\n",
            "Epoch 56/100\n",
            "2/2 [==============================] - 0s 18ms/step - loss: 0.4787\n",
            "Epoch 57/100\n",
            "2/2 [==============================] - 0s 19ms/step - loss: 0.4476\n",
            "Epoch 58/100\n",
            "2/2 [==============================] - 0s 18ms/step - loss: 0.4211\n",
            "Epoch 59/100\n",
            "2/2 [==============================] - 0s 18ms/step - loss: 0.4053\n",
            "Epoch 60/100\n",
            "2/2 [==============================] - 0s 22ms/step - loss: 0.3950\n",
            "Epoch 61/100\n",
            "2/2 [==============================] - 0s 19ms/step - loss: 0.3862\n",
            "Epoch 62/100\n",
            "2/2 [==============================] - 0s 21ms/step - loss: 0.4590\n",
            "Epoch 63/100\n",
            "2/2 [==============================] - 0s 20ms/step - loss: 0.3929\n",
            "Epoch 64/100\n",
            "2/2 [==============================] - 0s 19ms/step - loss: 0.4236\n",
            "Epoch 65/100\n",
            "2/2 [==============================] - 0s 18ms/step - loss: 0.3686\n",
            "Epoch 66/100\n",
            "2/2 [==============================] - 0s 19ms/step - loss: 0.4554\n",
            "Epoch 67/100\n",
            "2/2 [==============================] - 0s 20ms/step - loss: 0.3688\n",
            "Epoch 68/100\n",
            "2/2 [==============================] - 0s 18ms/step - loss: 0.4329\n",
            "Epoch 69/100\n",
            "2/2 [==============================] - 0s 17ms/step - loss: 0.4744\n",
            "Epoch 70/100\n",
            "2/2 [==============================] - 0s 20ms/step - loss: 0.4418\n",
            "Epoch 71/100\n",
            "2/2 [==============================] - 0s 19ms/step - loss: 0.4005\n",
            "Epoch 72/100\n",
            "2/2 [==============================] - 0s 18ms/step - loss: 0.4513\n",
            "Epoch 73/100\n",
            "2/2 [==============================] - 0s 19ms/step - loss: 0.3767\n",
            "Epoch 74/100\n",
            "2/2 [==============================] - 0s 18ms/step - loss: 0.3950\n",
            "Epoch 75/100\n",
            "2/2 [==============================] - 0s 21ms/step - loss: 0.4232\n",
            "Epoch 76/100\n",
            "2/2 [==============================] - 0s 18ms/step - loss: 0.4287\n",
            "Epoch 77/100\n",
            "2/2 [==============================] - 0s 19ms/step - loss: 0.3432\n",
            "Epoch 78/100\n",
            "2/2 [==============================] - 0s 21ms/step - loss: 0.3760\n",
            "Epoch 79/100\n",
            "2/2 [==============================] - 0s 23ms/step - loss: 0.3613\n",
            "Epoch 80/100\n",
            "2/2 [==============================] - 0s 21ms/step - loss: 0.4124\n",
            "Epoch 81/100\n",
            "2/2 [==============================] - 0s 23ms/step - loss: 0.3295\n",
            "Epoch 82/100\n",
            "2/2 [==============================] - 0s 20ms/step - loss: 0.3648\n",
            "Epoch 83/100\n",
            "2/2 [==============================] - 0s 19ms/step - loss: 0.3818\n",
            "Epoch 84/100\n",
            "2/2 [==============================] - 0s 21ms/step - loss: 0.3665\n",
            "Epoch 85/100\n",
            "2/2 [==============================] - 0s 21ms/step - loss: 0.3966\n",
            "Epoch 86/100\n",
            "2/2 [==============================] - 0s 21ms/step - loss: 0.3306\n",
            "Epoch 87/100\n",
            "2/2 [==============================] - 0s 18ms/step - loss: 0.4194\n",
            "Epoch 88/100\n",
            "2/2 [==============================] - 0s 19ms/step - loss: 0.3796\n",
            "Epoch 89/100\n",
            "2/2 [==============================] - 0s 22ms/step - loss: 0.4872\n",
            "Epoch 90/100\n",
            "2/2 [==============================] - 0s 19ms/step - loss: 0.4052\n",
            "Epoch 91/100\n",
            "2/2 [==============================] - 0s 22ms/step - loss: 0.4216\n",
            "Epoch 92/100\n",
            "2/2 [==============================] - 0s 23ms/step - loss: 0.3449\n",
            "Epoch 93/100\n",
            "2/2 [==============================] - 0s 21ms/step - loss: 0.3674\n",
            "Epoch 94/100\n",
            "2/2 [==============================] - 0s 18ms/step - loss: 0.4271\n",
            "Epoch 95/100\n",
            "2/2 [==============================] - 0s 19ms/step - loss: 0.3527\n",
            "Epoch 96/100\n",
            "2/2 [==============================] - 0s 20ms/step - loss: 0.3590\n",
            "Epoch 97/100\n",
            "2/2 [==============================] - 0s 19ms/step - loss: 0.4070\n",
            "Epoch 98/100\n",
            "2/2 [==============================] - 0s 20ms/step - loss: 0.3936\n",
            "Epoch 99/100\n",
            "2/2 [==============================] - 0s 23ms/step - loss: 0.4142\n",
            "Epoch 100/100\n",
            "2/2 [==============================] - 0s 25ms/step - loss: 0.3967\n"
          ],
          "name": "stdout"
        },
        {
          "output_type": "execute_result",
          "data": {
            "text/plain": [
              "<tensorflow.python.keras.callbacks.History at 0x7f6ce77c1b90>"
            ]
          },
          "metadata": {
            "tags": []
          },
          "execution_count": 21
        }
      ]
    },
    {
      "cell_type": "code",
      "metadata": {
        "colab": {
          "base_uri": "https://localhost:8080/"
        },
        "id": "ipj5obWOtHyt",
        "outputId": "9c9401fe-2656-40cd-9a70-590725ce28a6"
      },
      "source": [
        "pos_sim = []\n",
        "neg_sim = []\n",
        "for i in range(64):\n",
        "  sample = next(iter(test_dataset))\n",
        "  anchor, positive, negative = sample\n",
        "  y_pred = siamese_model.predict([anchor, positive, negative])\n",
        "\n",
        "  anchor_embedding, positive_embedding, negative_embedding = (\n",
        "      embedding(anchor),\n",
        "      embedding(positive),\n",
        "      embedding(negative),\n",
        "  )\n",
        "\n",
        "  cosine_similarity = metrics.CosineSimilarity()\n",
        "  positive_similarity = cosine_similarity(anchor_embedding, positive_embedding)\n",
        "  negative_similarity = cosine_similarity(anchor_embedding, negative_embedding)\n",
        "  pos_sim.append(positive_similarity)\n",
        "  neg_sim.append(negative_similarity)\n",
        "\n",
        "  if i % 10 == 0:\n",
        "    print('sample ', i)\n",
        "    print(y_pred)\n",
        "\n",
        "\n",
        "    print(\"Positive similarity:\", positive_similarity.numpy())\n",
        "    print(\"Negative similarity\", negative_similarity.numpy())\n",
        "print('\\nMean positive similarity:', np.mean(pos_sim))\n",
        "print('\\nMean negative similarity:', np.mean(neg_sim))"
      ],
      "execution_count": null,
      "outputs": [
        {
          "output_type": "stream",
          "text": [
            "sample  0\n",
            "(array([0.08976854, 0.02134169, 0.2124488 , 0.10684183, 0.33488953,\n",
            "       0.1427098 , 0.12306878, 0.2652594 ], dtype=float32), array([0.5856374 , 0.03668496, 0.06218493, 0.7609694 , 0.24213111,\n",
            "       0.35175422, 0.80018055, 0.25222793], dtype=float32))\n",
            "Positive similarity: 0.7971003\n",
            "Negative similarity 0.7283498\n",
            "sample  10\n",
            "(array([0.10684183, 0.34243485, 0.1738712 , 0.9275155 , 0.05996846,\n",
            "       0.25576094, 0.22740875, 0.02147042], dtype=float32), array([1.1039845 , 0.33153182, 0.22679856, 1.4702811 , 0.22653939,\n",
            "       1.5363348 , 0.0800132 , 0.14266002], dtype=float32))\n",
            "Positive similarity: 0.78017265\n",
            "Negative similarity 0.7019845\n",
            "sample  20\n",
            "(array([0.05931036, 0.3532762 , 0.52523065, 0.33488953, 0.0907187 ,\n",
            "       0.05220813, 0.02784101, 0.22740875], dtype=float32), array([0.08606778, 0.10000977, 0.5131359 , 0.7161581 , 0.67679316,\n",
            "       0.33023372, 0.5994896 , 0.12033451], dtype=float32))\n",
            "Positive similarity: 0.6716742\n",
            "Negative similarity 0.6309819\n",
            "sample  30\n",
            "(array([0.6086746 , 0.05963581, 0.9098644 , 0.05996846, 0.15683949,\n",
            "       0.07458273, 0.23136592, 0.09984913], dtype=float32), array([0.37609458, 0.2658922 , 1.6023843 , 0.57768714, 0.27094445,\n",
            "       0.21664892, 0.14643958, 1.0632759 ], dtype=float32))\n",
            "Positive similarity: 0.8127953\n",
            "Negative similarity 0.6932565\n",
            "sample  40\n",
            "(array([0.9275155 , 0.26797783, 0.14972925, 0.12306877, 0.05996846,\n",
            "       0.26968712, 0.2652594 , 0.01865013], dtype=float32), array([1.4373937 , 0.5352764 , 1.2639022 , 0.12002309, 0.10719184,\n",
            "       0.06069275, 0.35176224, 0.16310114], dtype=float32))\n",
            "Positive similarity: 0.7895523\n",
            "Negative similarity 0.715835\n",
            "sample  50\n",
            "(array([0.3131848 , 0.01963154, 0.05963581, 0.9275155 , 0.8009935 ,\n",
            "       0.17507145, 0.05220809, 0.20282224], dtype=float32), array([0.5069912 , 0.2907023 , 0.15981844, 0.72843015, 3.0320685 ,\n",
            "       0.03717963, 1.2978752 , 0.02707047], dtype=float32))\n",
            "Positive similarity: 0.5739981\n",
            "Negative similarity 0.61528176\n",
            "sample  60\n",
            "(array([0.02147045, 0.08528216, 0.03147175, 0.02134169, 0.26797783,\n",
            "       0.10159749, 0.11841449, 0.08316768], dtype=float32), array([0.02289734, 0.07125463, 0.07599676, 0.21092325, 0.6515002 ,\n",
            "       0.09365786, 0.78947055, 0.5449902 ], dtype=float32))\n",
            "Positive similarity: 0.85461116\n",
            "Negative similarity 0.8023014\n",
            "\n",
            "Mean positive similarity: 0.72626245\n",
            "\n",
            "Mean negative similarity: 0.65883136\n"
          ],
          "name": "stdout"
        }
      ]
    },
    {
      "cell_type": "code",
      "metadata": {
        "colab": {
          "base_uri": "https://localhost:8080/",
          "height": 524
        },
        "id": "jKhKAG32wOfJ",
        "outputId": "e7b2fe50-f622-4a74-f3aa-cbd50ab04df8"
      },
      "source": [
        "visualize(*sample)"
      ],
      "execution_count": null,
      "outputs": [
        {
          "output_type": "display_data",
          "data": {
            "image/png": "[encoded data removed]",
            "text/plain": [
              "<Figure size 648x648 with 9 Axes>"
            ]
          },
          "metadata": {
            "tags": [],
            "needs_background": "light"
          }
        }
      ]
    },
    {
      "cell_type": "code",
      "metadata": {
        "id": "2CCiTSewwO04"
      },
      "source": [
        ""
      ],
      "execution_count": null,
      "outputs": []
    }
  ]
}