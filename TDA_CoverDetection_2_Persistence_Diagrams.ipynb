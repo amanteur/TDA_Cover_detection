{
  "nbformat": 4,
  "nbformat_minor": 0,
  "metadata": {
    "colab": {
      "name": "TDA_CoverDetection_Persistence_Diagrams_2.ipynb",
      "provenance": [],
      "collapsed_sections": [],
      "toc_visible": true,
      "authorship_tag": "ABX9TyPleJDN2sXkRghrFEmv+80b",
      "include_colab_link": true
    },
    "kernelspec": {
      "name": "python3",
      "display_name": "Python 3"
    },
    "language_info": {
      "name": "python"
    }
  },
  "cells": [
    {
      "cell_type": "markdown",
      "metadata": {
        "id": "view-in-github",
        "colab_type": "text"
      },
      "source": [
        "<a href=\"https://colab.research.google.com/github/amanteur/TDA_Cover_detection/blob/main/TDA_CoverDetection_Persistence_Diagrams_2.ipynb\" target=\"_parent\"><img src=\"https://colab.research.google.com/assets/colab-badge.svg\" alt=\"Open In Colab\"/></a>"
      ]
    },
    {
      "cell_type": "markdown",
      "metadata": {
        "id": "7rwV1cHdV_6R"
      },
      "source": [
        "#Libraries"
      ]
    },
    {
      "cell_type": "code",
      "metadata": {
        "id": "7cGQlYpZV8-9"
      },
      "source": [
        "import gudhi as gd\n",
        "import numpy as np\n",
        "import gudhi.representations\n",
        "import os\n",
        "import pandas as pd"
      ],
      "execution_count": null,
      "outputs": []
    },
    {
      "cell_type": "markdown",
      "metadata": {
        "id": "76VBiShWWLXp"
      },
      "source": [
        "#Extracting Data"
      ]
    },
    {
      "cell_type": "code",
      "metadata": {
        "id": "rissrNmPWJaa",
        "colab": {
          "base_uri": "https://localhost:8080/"
        },
        "outputId": "10b01e8c-5044-43db-bd8c-d20eeeb22a3c"
      },
      "source": [
        "root_dir = \"C:\\\\Users\\\\Hp\\\\PycharmProjects\\\\TDA_Cover_detection\\\\data_df\\\\\"\n",
        "print(root_dir + 'data_short.json')"
      ],
      "execution_count": null,
      "outputs": [
        {
          "output_type": "stream",
          "text": [
            "C:\\Users\\Hp\\PycharmProjects\\TDA_Cover_detection\\data_df\\data_short.json\n"
          ],
          "name": "stdout"
        }
      ]
    },
    {
      "cell_type": "code",
      "metadata": {
        "id": "IU_SNVpiW2tR"
      },
      "source": [
        "df_as = pd.read_json(root_dir + 'data_all_short.json')\n",
        "df_ts = pd.read_json(root_dir + 'data_tonnetz_short.json')\n",
        "df_ms = pd.read_json(root_dir + 'data_mfcc_short.json')"
      ],
      "execution_count": null,
      "outputs": []
    },
    {
      "cell_type": "code",
      "metadata": {
        "colab": {
          "base_uri": "https://localhost:8080/",
          "height": 204
        },
        "id": "PWArzQ9xXLb_",
        "outputId": "22fbc0fe-b10b-44a4-c792-67cec7fb16a0"
      },
      "source": [
        "df_ts.head()"
      ],
      "execution_count": null,
      "outputs": [
        {
          "output_type": "execute_result",
          "data": {
            "text/plain": [
              "                   name                                               data  \\\n",
              "0           Caroline_No  [[-1.5858895715, 1.3413441156, -0.1055902599, ...   \n",
              "1           Caroline_No  [[1.3080404403, -0.6044510957, 1.4758249653, -...   \n",
              "2      Between_The_Bars  [[1.8867760943, 0.6353188351, -0.424381151, -0...   \n",
              "3      Between_The_Bars  [[0.3243762713, 0.5022660379, -1.8999438226, 1...   \n",
              "4  Before_You_Accuse_Me  [[-0.0267137987, -0.4008866119, -1.2454975819,...   \n",
              "\n",
              "                                      data_optimized  \n",
              "0  [[-1.6457545757, 1.4071550368999999, -0.071545...  \n",
              "1  [[1.0761038065, -0.7231699824000001, 1.6963046...  \n",
              "2  [[1.9328298569000002, 0.6648994684, -0.1995572...  \n",
              "3  [[0.2845159769, 0.6938699484, -1.9528387784999...  \n",
              "4  [[-0.1234773099, -0.16961076860000002, -1.3394...  "
            ],
            "text/html": [
              "<div>\n",
              "<style scoped>\n",
              "    .dataframe tbody tr th:only-of-type {\n",
              "        vertical-align: middle;\n",
              "    }\n",
              "\n",
              "    .dataframe tbody tr th {\n",
              "        vertical-align: top;\n",
              "    }\n",
              "\n",
              "    .dataframe thead th {\n",
              "        text-align: right;\n",
              "    }\n",
              "</style>\n",
              "<table border=\"1\" class=\"dataframe\">\n",
              "  <thead>\n",
              "    <tr style=\"text-align: right;\">\n",
              "      <th></th>\n",
              "      <th>name</th>\n",
              "      <th>data</th>\n",
              "      <th>data_optimized</th>\n",
              "    </tr>\n",
              "  </thead>\n",
              "  <tbody>\n",
              "    <tr>\n",
              "      <th>0</th>\n",
              "      <td>Caroline_No</td>\n",
              "      <td>[[-1.5858895715, 1.3413441156, -0.1055902599, ...</td>\n",
              "      <td>[[-1.6457545757, 1.4071550368999999, -0.071545...</td>\n",
              "    </tr>\n",
              "    <tr>\n",
              "      <th>1</th>\n",
              "      <td>Caroline_No</td>\n",
              "      <td>[[1.3080404403, -0.6044510957, 1.4758249653, -...</td>\n",
              "      <td>[[1.0761038065, -0.7231699824000001, 1.6963046...</td>\n",
              "    </tr>\n",
              "    <tr>\n",
              "      <th>2</th>\n",
              "      <td>Between_The_Bars</td>\n",
              "      <td>[[1.8867760943, 0.6353188351, -0.424381151, -0...</td>\n",
              "      <td>[[1.9328298569000002, 0.6648994684, -0.1995572...</td>\n",
              "    </tr>\n",
              "    <tr>\n",
              "      <th>3</th>\n",
              "      <td>Between_The_Bars</td>\n",
              "      <td>[[0.3243762713, 0.5022660379, -1.8999438226, 1...</td>\n",
              "      <td>[[0.2845159769, 0.6938699484, -1.9528387784999...</td>\n",
              "    </tr>\n",
              "    <tr>\n",
              "      <th>4</th>\n",
              "      <td>Before_You_Accuse_Me</td>\n",
              "      <td>[[-0.0267137987, -0.4008866119, -1.2454975819,...</td>\n",
              "      <td>[[-0.1234773099, -0.16961076860000002, -1.3394...</td>\n",
              "    </tr>\n",
              "  </tbody>\n",
              "</table>\n",
              "</div>"
            ]
          },
          "metadata": {
            "tags": []
          },
          "execution_count": 20
        }
      ]
    },
    {
      "cell_type": "code",
      "metadata": {
        "colab": {
          "base_uri": "https://localhost:8080/"
        },
        "id": "5hJTv8Z_Iiq0",
        "outputId": "ea52a296-6f39-449c-f357-de2df72ba237"
      },
      "source": [
        "np.array(df_ts.iloc[0].data).shape"
      ],
      "execution_count": null,
      "outputs": [
        {
          "output_type": "execute_result",
          "data": {
            "text/plain": [
              "(58, 6)"
            ]
          },
          "metadata": {
            "tags": []
          },
          "execution_count": 22
        }
      ]
    },
    {
      "cell_type": "code",
      "metadata": {
        "id": "X3Anj9gEIer7"
      },
      "source": [
        "df_af = pd.read_json(root_dir + 'data_all_full.json')\n",
        "df_tf = pd.read_json(root_dir + 'data_tonnetz_full.json')\n",
        "df_mf = pd.read_json(root_dir + 'data_mfcc_full.json')"
      ],
      "execution_count": null,
      "outputs": []
    },
    {
      "cell_type": "code",
      "metadata": {
        "colab": {
          "base_uri": "https://localhost:8080/",
          "height": 204
        },
        "id": "G63CqPQDLLTA",
        "outputId": "c57f197a-8aaa-4c2d-8d34-a32bfa349b57"
      },
      "source": [
        "df_tf.head()"
      ],
      "execution_count": null,
      "outputs": [
        {
          "output_type": "execute_result",
          "data": {
            "text/plain": [
              "               name                                               data  \\\n",
              "0  Addicted_To_Love  [[0.3422733565, 0.143510731, -0.6645351426, 1....   \n",
              "1  Addicted_To_Love  [[0.4367159507, -1.3449895605, 1.178918452, -1...   \n",
              "2  Between_The_Bars  [[0.7100896968, 0.3123489759, 1.5932283558, -1...   \n",
              "3  Between_The_Bars  [[0.25370914110000004, 1.2441367206, 0.5878284...   \n",
              "4       Caroline_No  [[0.0838415606, -0.2773952232, -1.714423491, 0...   \n",
              "\n",
              "                                         sparse_data  \\\n",
              "0  [[-2.0269999645, -0.30316059], [2.1061349294, ...   \n",
              "1  [[-1.1181345966, -0.7408444737000001], [2.2844...   \n",
              "2  [[-1.3944060246, 1.7688828552], [2.922520301, ...   \n",
              "3  [[2.1105872413, -2.0433809696], [-0.7181923317...   \n",
              "4  [[-1.5942165669000001, 1.0369796703], [2.21166...   \n",
              "\n",
              "                               sparse_data_optimized  \n",
              "0  [[-2.1814830303, -0.31520187850000003], [2.106...  \n",
              "1  [[-1.1741437912000001, -0.7866913676], [2.4901...  \n",
              "2  [[-1.4065483809, 1.7810242176000002], [2.92252...  \n",
              "3  [[1.9947917461, -1.9572432041], [-0.7166914940...  \n",
              "4  [[-1.5704852343, 1.0302634239], [2.2116613388,...  "
            ],
            "text/html": [
              "<div>\n",
              "<style scoped>\n",
              "    .dataframe tbody tr th:only-of-type {\n",
              "        vertical-align: middle;\n",
              "    }\n",
              "\n",
              "    .dataframe tbody tr th {\n",
              "        vertical-align: top;\n",
              "    }\n",
              "\n",
              "    .dataframe thead th {\n",
              "        text-align: right;\n",
              "    }\n",
              "</style>\n",
              "<table border=\"1\" class=\"dataframe\">\n",
              "  <thead>\n",
              "    <tr style=\"text-align: right;\">\n",
              "      <th></th>\n",
              "      <th>name</th>\n",
              "      <th>data</th>\n",
              "      <th>sparse_data</th>\n",
              "      <th>sparse_data_optimized</th>\n",
              "    </tr>\n",
              "  </thead>\n",
              "  <tbody>\n",
              "    <tr>\n",
              "      <th>0</th>\n",
              "      <td>Addicted_To_Love</td>\n",
              "      <td>[[0.3422733565, 0.143510731, -0.6645351426, 1....</td>\n",
              "      <td>[[-2.0269999645, -0.30316059], [2.1061349294, ...</td>\n",
              "      <td>[[-2.1814830303, -0.31520187850000003], [2.106...</td>\n",
              "    </tr>\n",
              "    <tr>\n",
              "      <th>1</th>\n",
              "      <td>Addicted_To_Love</td>\n",
              "      <td>[[0.4367159507, -1.3449895605, 1.178918452, -1...</td>\n",
              "      <td>[[-1.1181345966, -0.7408444737000001], [2.2844...</td>\n",
              "      <td>[[-1.1741437912000001, -0.7866913676], [2.4901...</td>\n",
              "    </tr>\n",
              "    <tr>\n",
              "      <th>2</th>\n",
              "      <td>Between_The_Bars</td>\n",
              "      <td>[[0.7100896968, 0.3123489759, 1.5932283558, -1...</td>\n",
              "      <td>[[-1.3944060246, 1.7688828552], [2.922520301, ...</td>\n",
              "      <td>[[-1.4065483809, 1.7810242176000002], [2.92252...</td>\n",
              "    </tr>\n",
              "    <tr>\n",
              "      <th>3</th>\n",
              "      <td>Between_The_Bars</td>\n",
              "      <td>[[0.25370914110000004, 1.2441367206, 0.5878284...</td>\n",
              "      <td>[[2.1105872413, -2.0433809696], [-0.7181923317...</td>\n",
              "      <td>[[1.9947917461, -1.9572432041], [-0.7166914940...</td>\n",
              "    </tr>\n",
              "    <tr>\n",
              "      <th>4</th>\n",
              "      <td>Caroline_No</td>\n",
              "      <td>[[0.0838415606, -0.2773952232, -1.714423491, 0...</td>\n",
              "      <td>[[-1.5942165669000001, 1.0369796703], [2.21166...</td>\n",
              "      <td>[[-1.5704852343, 1.0302634239], [2.2116613388,...</td>\n",
              "    </tr>\n",
              "  </tbody>\n",
              "</table>\n",
              "</div>"
            ]
          },
          "metadata": {
            "tags": []
          },
          "execution_count": 30
        }
      ]
    },
    {
      "cell_type": "code",
      "metadata": {
        "colab": {
          "base_uri": "https://localhost:8080/"
        },
        "id": "5NKopG46LNuJ",
        "outputId": "2be3ad03-857b-4673-c395-a63691c2e4f2"
      },
      "source": [
        "np.array(df_tf.iloc[0].data).shape"
      ],
      "execution_count": null,
      "outputs": [
        {
          "output_type": "execute_result",
          "data": {
            "text/plain": [
              "(359, 6)"
            ]
          },
          "metadata": {
            "tags": []
          },
          "execution_count": 31
        }
      ]
    },
    {
      "cell_type": "markdown",
      "metadata": {
        "id": "l9QIojdR90xu"
      },
      "source": [
        "#Adding Rips persistences"
      ]
    },
    {
      "cell_type": "code",
      "metadata": {
        "id": "PWlk8p46bOZU"
      },
      "source": [
        "def add_topological_features(df, eps=0.001, data_column='data'):\n",
        "  feature_dict = {}\n",
        "  df_size = df.shape[0]\n",
        "\n",
        "  for index, row in df.iterrows():\n",
        "    if (index + 1) % 20 == 0:\n",
        "      print('Progress: {}/{}'.format(index+1,df_size))\n",
        "\n",
        "    song_data = row[data_column]\n",
        "    \n",
        "    # Rips Complex\n",
        "    rc = gd.RipsComplex(points=song_data).create_simplex_tree(max_dimension=2)\n",
        "    rc.compute_persistence(persistence_dim_max=True)\n",
        "\n",
        "    # peristence intervals for next computations\n",
        "    pers_intervals = rc.persistence_intervals_in_dimension(1)\n",
        "\n",
        "    # add to dict\n",
        "    feature_dict.setdefault(index, {})\n",
        "    feature_dict[index][data_column + '_persistence'] = pers_intervals\n",
        "\n",
        "  dict_df = pd.DataFrame.from_dict(feature_dict).transpose()\n",
        "  joined_df = df.join(dict_df)\n",
        "\n",
        "  print('Done!\\n')\n",
        "\n",
        "  return joined_df"
      ],
      "execution_count": null,
      "outputs": []
    },
    {
      "cell_type": "markdown",
      "metadata": {
        "id": "aRHlSkOo960c"
      },
      "source": [
        "##To original data"
      ]
    },
    {
      "cell_type": "markdown",
      "metadata": {
        "id": "17ZSSKoyI5SK"
      },
      "source": [
        "60s audios"
      ]
    },
    {
      "cell_type": "code",
      "metadata": {
        "colab": {
          "base_uri": "https://localhost:8080/"
        },
        "id": "DMSxU6J8IqC6",
        "outputId": "8cfd64d9-3e88-456c-bdf7-81db13998849"
      },
      "source": [
        "df_as = add_topological_features(df_as)\n",
        "df_ts = add_topological_features(df_ts)\n",
        "df_ms = add_topological_features(df_ms)"
      ],
      "execution_count": null,
      "outputs": [
        {
          "output_type": "stream",
          "text": [
            "Progress: 20/164\n",
            "Progress: 40/164\n",
            "Progress: 60/164\n",
            "Progress: 80/164\n",
            "Progress: 100/164\n",
            "Progress: 120/164\n",
            "Progress: 140/164\n",
            "Progress: 160/164\n",
            "Done!\n",
            "\n",
            "Progress: 20/164\n",
            "Progress: 40/164\n",
            "Progress: 60/164\n",
            "Progress: 80/164\n",
            "Progress: 100/164\n",
            "Progress: 120/164\n",
            "Progress: 140/164\n",
            "Progress: 160/164\n",
            "Done!\n",
            "\n",
            "Progress: 20/164\n",
            "Progress: 40/164\n",
            "Progress: 60/164\n",
            "Progress: 80/164\n",
            "Progress: 100/164\n",
            "Progress: 120/164\n",
            "Progress: 140/164\n",
            "Progress: 160/164\n",
            "Done!\n",
            "\n"
          ],
          "name": "stdout"
        }
      ]
    },
    {
      "cell_type": "markdown",
      "metadata": {
        "id": "-XqVwNyDJJx6"
      },
      "source": [
        "Full length audio"
      ]
    },
    {
      "cell_type": "code",
      "metadata": {
        "colab": {
          "base_uri": "https://localhost:8080/"
        },
        "id": "dFzOgnbIJLVM",
        "outputId": "904b00fc-432a-4f3e-c251-777b4a014837"
      },
      "source": [
        "df_af = add_topological_features(df_af)\n",
        "df_tf = add_topological_features(df_tf)\n",
        "df_mf = add_topological_features(df_mf)"
      ],
      "execution_count": null,
      "outputs": [
        {
          "output_type": "stream",
          "text": [
            "Progress: 20/164\n",
            "Progress: 40/164\n",
            "Progress: 60/164\n",
            "Progress: 80/164\n",
            "Progress: 100/164\n",
            "Progress: 120/164\n",
            "Progress: 140/164\n",
            "Progress: 160/164\n",
            "Done!\n",
            "\n",
            "Progress: 20/164\n",
            "Progress: 40/164\n",
            "Progress: 60/164\n",
            "Progress: 80/164\n",
            "Progress: 100/164\n",
            "Progress: 120/164\n",
            "Progress: 140/164\n",
            "Progress: 160/164\n",
            "Done!\n",
            "\n",
            "Progress: 20/164\n",
            "Progress: 40/164\n",
            "Progress: 60/164\n",
            "Progress: 80/164\n",
            "Progress: 100/164\n",
            "Progress: 120/164\n",
            "Progress: 140/164\n",
            "Progress: 160/164\n",
            "Done!\n",
            "\n"
          ],
          "name": "stdout"
        }
      ]
    },
    {
      "cell_type": "markdown",
      "metadata": {
        "id": "so3yfAOJ9-eu"
      },
      "source": [
        "##To sparse data "
      ]
    },
    {
      "cell_type": "markdown",
      "metadata": {
        "id": "AnauUTKlJRUt"
      },
      "source": [
        "Only full length audios"
      ]
    },
    {
      "cell_type": "code",
      "metadata": {
        "colab": {
          "base_uri": "https://localhost:8080/"
        },
        "id": "uHzBGtQFJQlE",
        "outputId": "6e4606c8-0cf6-4fb2-c5df-dd5973cbc099"
      },
      "source": [
        "df_af = add_topological_features(df_af, data_column='sparse_data')\n",
        "df_tf = add_topological_features(df_tf, data_column='sparse_data')\n",
        "df_mf = add_topological_features(df_mf, data_column='sparse_data')"
      ],
      "execution_count": null,
      "outputs": [
        {
          "output_type": "stream",
          "text": [
            "Progress: 20/164\n",
            "Progress: 40/164\n",
            "Progress: 60/164\n",
            "Progress: 80/164\n",
            "Progress: 100/164\n",
            "Progress: 120/164\n",
            "Progress: 140/164\n",
            "Progress: 160/164\n",
            "Done!\n",
            "\n",
            "Progress: 20/164\n",
            "Progress: 40/164\n",
            "Progress: 60/164\n",
            "Progress: 80/164\n",
            "Progress: 100/164\n",
            "Progress: 120/164\n",
            "Progress: 140/164\n",
            "Progress: 160/164\n",
            "Done!\n",
            "\n",
            "Progress: 20/164\n",
            "Progress: 40/164\n",
            "Progress: 60/164\n",
            "Progress: 80/164\n",
            "Progress: 100/164\n",
            "Progress: 120/164\n",
            "Progress: 140/164\n",
            "Progress: 160/164\n",
            "Done!\n",
            "\n"
          ],
          "name": "stdout"
        }
      ]
    },
    {
      "cell_type": "markdown",
      "metadata": {
        "id": "tiZlj3Vd-PC2"
      },
      "source": [
        "##To optimized data"
      ]
    },
    {
      "cell_type": "markdown",
      "metadata": {
        "id": "l5zH3gneJaIe"
      },
      "source": [
        "Only to tonnetz"
      ]
    },
    {
      "cell_type": "code",
      "metadata": {
        "colab": {
          "base_uri": "https://localhost:8080/"
        },
        "id": "a92h0-qNJbl_",
        "outputId": "7931f189-63ac-467f-c133-660d2da0b43d"
      },
      "source": [
        "df_tf = add_topological_features(df_tf, data_column='sparse_data_optimized')\n",
        "df_ts = add_topological_features(df_ts, data_column='data_optimized')"
      ],
      "execution_count": null,
      "outputs": [
        {
          "output_type": "stream",
          "text": [
            "Progress: 20/164\n",
            "Progress: 40/164\n",
            "Progress: 60/164\n",
            "Progress: 80/164\n",
            "Progress: 100/164\n",
            "Progress: 120/164\n",
            "Progress: 140/164\n",
            "Progress: 160/164\n",
            "Done!\n",
            "\n",
            "Progress: 20/164\n",
            "Progress: 40/164\n",
            "Progress: 60/164\n",
            "Progress: 80/164\n",
            "Progress: 100/164\n",
            "Progress: 120/164\n",
            "Progress: 140/164\n",
            "Progress: 160/164\n",
            "Done!\n",
            "\n"
          ],
          "name": "stdout"
        }
      ]
    },
    {
      "cell_type": "markdown",
      "metadata": {
        "id": "gUYK40t1-XkE"
      },
      "source": [
        "#Adding DTM persistences"
      ]
    },
    {
      "cell_type": "markdown",
      "metadata": {
        "id": "oMinbX9w-bCy"
      },
      "source": [
        "**Only to original data**"
      ]
    },
    {
      "cell_type": "code",
      "metadata": {
        "id": "DYji3gxh-20S"
      },
      "source": [
        "from DTM_filtrations import *"
      ],
      "execution_count": null,
      "outputs": []
    },
    {
      "cell_type": "markdown",
      "metadata": {
        "id": "wTIt9poRcpZe"
      },
      "source": [
        "Using dimension **0** for DTM filtration"
      ]
    },
    {
      "cell_type": "code",
      "metadata": {
        "id": "8OI4NBKca7HJ"
      },
      "source": [
        "def compute_DTM(df, p=1, m=0.1, dimension_max=1):\n",
        "  feature_dict = {}\n",
        "  df_size = df.shape[0]\n",
        "\n",
        "  for index, row in df.iterrows():\n",
        "    if (index + 1) % 20 == 0:\n",
        "      print('Progress: {}/{}'.format(index+1,df_size))\n",
        "\n",
        "    song_data = np.array(row['data'])\n",
        "\n",
        "    #DTM filtration\n",
        "    st_DTM = DTMFiltration(song_data, m, p, dimension_max)\n",
        "    st_DTM.compute_persistence(persistence_dim_max=True)\n",
        "    pers_intervals = st_DTM.persistence_intervals_in_dimension(0)\n",
        "\n",
        "    # add to dict\n",
        "    feature_dict.setdefault(index, {})\n",
        "    feature_dict[index]['persistence_DTM'] = pers_intervals\n",
        "\n",
        "  dict_df = pd.DataFrame.from_dict(feature_dict).transpose()\n",
        "  joined_df = df.join(dict_df)\n",
        "  print('Done!\\n')\n",
        "\n",
        "  return joined_df"
      ],
      "execution_count": null,
      "outputs": []
    },
    {
      "cell_type": "code",
      "metadata": {
        "id": "pAFrJYgBZ0Nm"
      },
      "source": [
        "df_af = compute_DTM(df_af)\n",
        "df_tf = compute_DTM(df_tf)\n",
        "df_mf = compute_DTM(df_mf)"
      ],
      "execution_count": null,
      "outputs": []
    },
    {
      "cell_type": "code",
      "metadata": {
        "id": "MqtzeH_zJ1Cx"
      },
      "source": [
        "df_as = compute_DTM(df_as)\n",
        "df_ts = compute_DTM(df_ts)\n",
        "df_ms = compute_DTM(df_ms)"
      ],
      "execution_count": null,
      "outputs": []
    },
    {
      "cell_type": "markdown",
      "metadata": {
        "id": "RZZpx8zEhMlc"
      },
      "source": [
        "#Datasets"
      ]
    },
    {
      "cell_type": "markdown",
      "metadata": {
        "id": "aXRvIpLqasWj"
      },
      "source": [
        "##Point clouds"
      ]
    },
    {
      "cell_type": "markdown",
      "metadata": {
        "id": "zXkMmdW2ZXbs"
      },
      "source": [
        "All features, full duration"
      ]
    },
    {
      "cell_type": "code",
      "metadata": {
        "colab": {
          "base_uri": "https://localhost:8080/",
          "height": 204
        },
        "id": "3H3Pp4ZZZyiX",
        "outputId": "1e5d85dc-7fdc-4916-bd1b-594c5ab7fac1"
      },
      "source": [
        "df_af[['name', 'data','sparse_data']].head()"
      ],
      "execution_count": null,
      "outputs": [
        {
          "output_type": "execute_result",
          "data": {
            "text/plain": [
              "                     name                                               data  \\\n",
              "0         Blue_Collar_Man  [[-4.5828766129, 1.6642811156000001, -1.782586...   \n",
              "1         Blue_Collar_Man  [[-4.5089410016, 1.9314511059, -1.4294643549, ...   \n",
              "2        Addicted_To_Love  [[-4.8905504311, 1.8891033677, -0.4505311209, ...   \n",
              "3        Addicted_To_Love  [[-3.7661504426, 2.6291591547, -1.6989040893, ...   \n",
              "4  All_Tomorrow_s_Parties  [[-5.0555436361, 1.9339179479, -0.201420185, 0...   \n",
              "\n",
              "                                         sparse_data  \n",
              "0  [[1.8349494301, -0.37629420480000003], [-1.008...  \n",
              "1  [[-0.209837885, -0.2255466405], [2.0217943019,...  \n",
              "2  [[1.3351606727, -0.1878888317], [-0.8205759669...  \n",
              "3  [[0.16023083770000002, -0.423371376], [1.26608...  \n",
              "4  [[0.2757647567, -0.030309090700000003], [1.913...  "
            ],
            "text/html": [
              "<div>\n",
              "<style scoped>\n",
              "    .dataframe tbody tr th:only-of-type {\n",
              "        vertical-align: middle;\n",
              "    }\n",
              "\n",
              "    .dataframe tbody tr th {\n",
              "        vertical-align: top;\n",
              "    }\n",
              "\n",
              "    .dataframe thead th {\n",
              "        text-align: right;\n",
              "    }\n",
              "</style>\n",
              "<table border=\"1\" class=\"dataframe\">\n",
              "  <thead>\n",
              "    <tr style=\"text-align: right;\">\n",
              "      <th></th>\n",
              "      <th>name</th>\n",
              "      <th>data</th>\n",
              "      <th>sparse_data</th>\n",
              "    </tr>\n",
              "  </thead>\n",
              "  <tbody>\n",
              "    <tr>\n",
              "      <th>0</th>\n",
              "      <td>Blue_Collar_Man</td>\n",
              "      <td>[[-4.5828766129, 1.6642811156000001, -1.782586...</td>\n",
              "      <td>[[1.8349494301, -0.37629420480000003], [-1.008...</td>\n",
              "    </tr>\n",
              "    <tr>\n",
              "      <th>1</th>\n",
              "      <td>Blue_Collar_Man</td>\n",
              "      <td>[[-4.5089410016, 1.9314511059, -1.4294643549, ...</td>\n",
              "      <td>[[-0.209837885, -0.2255466405], [2.0217943019,...</td>\n",
              "    </tr>\n",
              "    <tr>\n",
              "      <th>2</th>\n",
              "      <td>Addicted_To_Love</td>\n",
              "      <td>[[-4.8905504311, 1.8891033677, -0.4505311209, ...</td>\n",
              "      <td>[[1.3351606727, -0.1878888317], [-0.8205759669...</td>\n",
              "    </tr>\n",
              "    <tr>\n",
              "      <th>3</th>\n",
              "      <td>Addicted_To_Love</td>\n",
              "      <td>[[-3.7661504426, 2.6291591547, -1.6989040893, ...</td>\n",
              "      <td>[[0.16023083770000002, -0.423371376], [1.26608...</td>\n",
              "    </tr>\n",
              "    <tr>\n",
              "      <th>4</th>\n",
              "      <td>All_Tomorrow_s_Parties</td>\n",
              "      <td>[[-5.0555436361, 1.9339179479, -0.201420185, 0...</td>\n",
              "      <td>[[0.2757647567, -0.030309090700000003], [1.913...</td>\n",
              "    </tr>\n",
              "  </tbody>\n",
              "</table>\n",
              "</div>"
            ]
          },
          "metadata": {
            "tags": []
          },
          "execution_count": 67
        }
      ]
    },
    {
      "cell_type": "code",
      "metadata": {
        "colab": {
          "base_uri": "https://localhost:8080/"
        },
        "id": "POZICQXqZ1-I",
        "outputId": "61eca628-333b-490f-987b-be5b65f0cd64"
      },
      "source": [
        "print('Point clouds:\\nOriginal shape: {}, Sparse shape: {}'.format(np.array(df_af.iloc[0].data).shape, np.array(df_af.iloc[0].sparse_data).shape))"
      ],
      "execution_count": null,
      "outputs": [
        {
          "output_type": "stream",
          "text": [
            "Point clouds:\n",
            "Original shape: (298, 30), Sparse shape: (120, 2)\n"
          ],
          "name": "stdout"
        }
      ]
    },
    {
      "cell_type": "markdown",
      "metadata": {
        "id": "-NS0tOfRZkWa"
      },
      "source": [
        "Tonnetz features, full duration"
      ]
    },
    {
      "cell_type": "code",
      "metadata": {
        "colab": {
          "base_uri": "https://localhost:8080/",
          "height": 204
        },
        "id": "FvTisen1aPMb",
        "outputId": "274358fb-16f5-49c9-cdac-d5dbd8fbf002"
      },
      "source": [
        "df_tf[['name', 'data','sparse_data', 'sparse_data_optimized']].head()"
      ],
      "execution_count": null,
      "outputs": [
        {
          "output_type": "execute_result",
          "data": {
            "text/plain": [
              "               name                                               data  \\\n",
              "0  Addicted_To_Love  [[0.3422733565, 0.143510731, -0.6645351426, 1....   \n",
              "1  Addicted_To_Love  [[0.4367159507, -1.3449895605, 1.178918452, -1...   \n",
              "2  Between_The_Bars  [[0.7100896968, 0.3123489759, 1.5932283558, -1...   \n",
              "3  Between_The_Bars  [[0.25370914110000004, 1.2441367206, 0.5878284...   \n",
              "4       Caroline_No  [[0.0838415606, -0.2773952232, -1.714423491, 0...   \n",
              "\n",
              "                                         sparse_data  \\\n",
              "0  [[-2.0269999645, -0.30316059], [2.1061349294, ...   \n",
              "1  [[-1.1181345966, -0.7408444737000001], [2.2844...   \n",
              "2  [[-1.3944060246, 1.7688828552], [2.922520301, ...   \n",
              "3  [[2.1105872413, -2.0433809696], [-0.7181923317...   \n",
              "4  [[-1.5942165669000001, 1.0369796703], [2.21166...   \n",
              "\n",
              "                               sparse_data_optimized  \n",
              "0  [[-2.1814830303, -0.31520187850000003], [2.106...  \n",
              "1  [[-1.1741437912000001, -0.7866913676], [2.4901...  \n",
              "2  [[-1.4065483809, 1.7810242176000002], [2.92252...  \n",
              "3  [[1.9947917461, -1.9572432041], [-0.7166914940...  \n",
              "4  [[-1.5704852343, 1.0302634239], [2.2116613388,...  "
            ],
            "text/html": [
              "<div>\n",
              "<style scoped>\n",
              "    .dataframe tbody tr th:only-of-type {\n",
              "        vertical-align: middle;\n",
              "    }\n",
              "\n",
              "    .dataframe tbody tr th {\n",
              "        vertical-align: top;\n",
              "    }\n",
              "\n",
              "    .dataframe thead th {\n",
              "        text-align: right;\n",
              "    }\n",
              "</style>\n",
              "<table border=\"1\" class=\"dataframe\">\n",
              "  <thead>\n",
              "    <tr style=\"text-align: right;\">\n",
              "      <th></th>\n",
              "      <th>name</th>\n",
              "      <th>data</th>\n",
              "      <th>sparse_data</th>\n",
              "      <th>sparse_data_optimized</th>\n",
              "    </tr>\n",
              "  </thead>\n",
              "  <tbody>\n",
              "    <tr>\n",
              "      <th>0</th>\n",
              "      <td>Addicted_To_Love</td>\n",
              "      <td>[[0.3422733565, 0.143510731, -0.6645351426, 1....</td>\n",
              "      <td>[[-2.0269999645, -0.30316059], [2.1061349294, ...</td>\n",
              "      <td>[[-2.1814830303, -0.31520187850000003], [2.106...</td>\n",
              "    </tr>\n",
              "    <tr>\n",
              "      <th>1</th>\n",
              "      <td>Addicted_To_Love</td>\n",
              "      <td>[[0.4367159507, -1.3449895605, 1.178918452, -1...</td>\n",
              "      <td>[[-1.1181345966, -0.7408444737000001], [2.2844...</td>\n",
              "      <td>[[-1.1741437912000001, -0.7866913676], [2.4901...</td>\n",
              "    </tr>\n",
              "    <tr>\n",
              "      <th>2</th>\n",
              "      <td>Between_The_Bars</td>\n",
              "      <td>[[0.7100896968, 0.3123489759, 1.5932283558, -1...</td>\n",
              "      <td>[[-1.3944060246, 1.7688828552], [2.922520301, ...</td>\n",
              "      <td>[[-1.4065483809, 1.7810242176000002], [2.92252...</td>\n",
              "    </tr>\n",
              "    <tr>\n",
              "      <th>3</th>\n",
              "      <td>Between_The_Bars</td>\n",
              "      <td>[[0.25370914110000004, 1.2441367206, 0.5878284...</td>\n",
              "      <td>[[2.1105872413, -2.0433809696], [-0.7181923317...</td>\n",
              "      <td>[[1.9947917461, -1.9572432041], [-0.7166914940...</td>\n",
              "    </tr>\n",
              "    <tr>\n",
              "      <th>4</th>\n",
              "      <td>Caroline_No</td>\n",
              "      <td>[[0.0838415606, -0.2773952232, -1.714423491, 0...</td>\n",
              "      <td>[[-1.5942165669000001, 1.0369796703], [2.21166...</td>\n",
              "      <td>[[-1.5704852343, 1.0302634239], [2.2116613388,...</td>\n",
              "    </tr>\n",
              "  </tbody>\n",
              "</table>\n",
              "</div>"
            ]
          },
          "metadata": {
            "tags": []
          },
          "execution_count": 68
        }
      ]
    },
    {
      "cell_type": "code",
      "metadata": {
        "colab": {
          "base_uri": "https://localhost:8080/"
        },
        "id": "vI5_ImcuaPMd",
        "outputId": "1d89086f-b730-4308-dcc2-63d04b5229b4"
      },
      "source": [
        "print('Point clouds:\\nOriginal shape: {}, Sparse shape: {}, Optimized shape: {}'.format(np.array(df_tf.iloc[0].data).shape, \n",
        "                                                                                        np.array(df_tf.iloc[0].sparse_data).shape,\n",
        "                                                                                        np.array(df_tf.iloc[0].sparse_data_optimized).shape))"
      ],
      "execution_count": null,
      "outputs": [
        {
          "output_type": "stream",
          "text": [
            "Point clouds:\n",
            "Original shape: (359, 6), Sparse shape: (120, 2), Optimized shape: (120, 2)\n"
          ],
          "name": "stdout"
        }
      ]
    },
    {
      "cell_type": "markdown",
      "metadata": {
        "id": "LG3po1k4ZkbV"
      },
      "source": [
        "MFCC features, full duration"
      ]
    },
    {
      "cell_type": "code",
      "metadata": {
        "colab": {
          "base_uri": "https://localhost:8080/",
          "height": 204
        },
        "id": "3lrTscw1aP3q",
        "outputId": "485c0caa-3e9e-44c4-8924-8e506ba14ad0"
      },
      "source": [
        "df_mf[['name', 'data','sparse_data']].head()"
      ],
      "execution_count": null,
      "outputs": [
        {
          "output_type": "execute_result",
          "data": {
            "text/plain": [
              "                       name  \\\n",
              "0    All_Tomorrow_s_Parties   \n",
              "1    All_Tomorrow_s_Parties   \n",
              "2          Addicted_To_Love   \n",
              "3          Addicted_To_Love   \n",
              "4  All_Along_The_Watchtower   \n",
              "\n",
              "                                                data  \\\n",
              "0  [[-3.1031332016, 1.4269647598000001, 0.0429823...   \n",
              "1  [[-3.2100024223, 0.878430903, 0.0554179661, 0....   \n",
              "2  [[-3.0177416801, 1.3071744442, -0.185338825, 0...   \n",
              "3  [[-2.3204026222, 1.7416863441000001, -1.007356...   \n",
              "4  [[-2.4056568146, 1.697663784, -1.301181078, 0....   \n",
              "\n",
              "                                         sparse_data  \n",
              "0  [[0.32581887060000003, -0.2754239694], [-0.688...  \n",
              "1  [[-0.0581742388, -0.1960044163], [1.9702940682...  \n",
              "2  [[-0.3948977634, -0.0375099589], [1.6216317302...  \n",
              "3  [[-0.27243655310000003, 0.1388164836], [0.7793...  \n",
              "4  [[-0.2447804747, -0.0461015273], [1.0108347782...  "
            ],
            "text/html": [
              "<div>\n",
              "<style scoped>\n",
              "    .dataframe tbody tr th:only-of-type {\n",
              "        vertical-align: middle;\n",
              "    }\n",
              "\n",
              "    .dataframe tbody tr th {\n",
              "        vertical-align: top;\n",
              "    }\n",
              "\n",
              "    .dataframe thead th {\n",
              "        text-align: right;\n",
              "    }\n",
              "</style>\n",
              "<table border=\"1\" class=\"dataframe\">\n",
              "  <thead>\n",
              "    <tr style=\"text-align: right;\">\n",
              "      <th></th>\n",
              "      <th>name</th>\n",
              "      <th>data</th>\n",
              "      <th>sparse_data</th>\n",
              "    </tr>\n",
              "  </thead>\n",
              "  <tbody>\n",
              "    <tr>\n",
              "      <th>0</th>\n",
              "      <td>All_Tomorrow_s_Parties</td>\n",
              "      <td>[[-3.1031332016, 1.4269647598000001, 0.0429823...</td>\n",
              "      <td>[[0.32581887060000003, -0.2754239694], [-0.688...</td>\n",
              "    </tr>\n",
              "    <tr>\n",
              "      <th>1</th>\n",
              "      <td>All_Tomorrow_s_Parties</td>\n",
              "      <td>[[-3.2100024223, 0.878430903, 0.0554179661, 0....</td>\n",
              "      <td>[[-0.0581742388, -0.1960044163], [1.9702940682...</td>\n",
              "    </tr>\n",
              "    <tr>\n",
              "      <th>2</th>\n",
              "      <td>Addicted_To_Love</td>\n",
              "      <td>[[-3.0177416801, 1.3071744442, -0.185338825, 0...</td>\n",
              "      <td>[[-0.3948977634, -0.0375099589], [1.6216317302...</td>\n",
              "    </tr>\n",
              "    <tr>\n",
              "      <th>3</th>\n",
              "      <td>Addicted_To_Love</td>\n",
              "      <td>[[-2.3204026222, 1.7416863441000001, -1.007356...</td>\n",
              "      <td>[[-0.27243655310000003, 0.1388164836], [0.7793...</td>\n",
              "    </tr>\n",
              "    <tr>\n",
              "      <th>4</th>\n",
              "      <td>All_Along_The_Watchtower</td>\n",
              "      <td>[[-2.4056568146, 1.697663784, -1.301181078, 0....</td>\n",
              "      <td>[[-0.2447804747, -0.0461015273], [1.0108347782...</td>\n",
              "    </tr>\n",
              "  </tbody>\n",
              "</table>\n",
              "</div>"
            ]
          },
          "metadata": {
            "tags": []
          },
          "execution_count": 70
        }
      ]
    },
    {
      "cell_type": "code",
      "metadata": {
        "colab": {
          "base_uri": "https://localhost:8080/"
        },
        "id": "YMERRZK6aP3r",
        "outputId": "796fd366-3d10-4c69-cf84-bbd1e5a665dc"
      },
      "source": [
        "print('Point clouds:\\nOriginal shape: {}, Sparse shape: {}'.format(np.array(df_mf.iloc[0].data).shape, np.array(df_mf.iloc[0].sparse_data).shape))"
      ],
      "execution_count": null,
      "outputs": [
        {
          "output_type": "stream",
          "text": [
            "Point clouds:\n",
            "Original shape: (340, 12), Sparse shape: (120, 2)\n"
          ],
          "name": "stdout"
        }
      ]
    },
    {
      "cell_type": "markdown",
      "metadata": {
        "id": "41ZpgDlkZkdj"
      },
      "source": [
        "All features, 60s duration, offset 10"
      ]
    },
    {
      "cell_type": "code",
      "metadata": {
        "colab": {
          "base_uri": "https://localhost:8080/",
          "height": 204
        },
        "id": "CWnHjxkhaQRk",
        "outputId": "c0a113b7-4412-45dc-f35d-480ce628ab13"
      },
      "source": [
        "df_as[['name', 'data']].head()"
      ],
      "execution_count": null,
      "outputs": [
        {
          "output_type": "execute_result",
          "data": {
            "text/plain": [
              "                     name                                               data\n",
              "0             Abracadabra  [[-4.1192823548, 2.5715517081, -1.0244977379, ...\n",
              "1             Abracadabra  [[-2.4480854167, 3.5900198295, -1.8321097403, ...\n",
              "2        Between_The_Bars  [[-4.8465710655, 2.3171295814, -0.0924338127, ...\n",
              "3        Between_The_Bars  [[-4.5400104752, 2.9157706856, -0.2943556108, ...\n",
              "4  All_Tomorrow_s_Parties  [[-4.6809713755, 2.7040989104, -0.5291231463, ..."
            ],
            "text/html": [
              "<div>\n",
              "<style scoped>\n",
              "    .dataframe tbody tr th:only-of-type {\n",
              "        vertical-align: middle;\n",
              "    }\n",
              "\n",
              "    .dataframe tbody tr th {\n",
              "        vertical-align: top;\n",
              "    }\n",
              "\n",
              "    .dataframe thead th {\n",
              "        text-align: right;\n",
              "    }\n",
              "</style>\n",
              "<table border=\"1\" class=\"dataframe\">\n",
              "  <thead>\n",
              "    <tr style=\"text-align: right;\">\n",
              "      <th></th>\n",
              "      <th>name</th>\n",
              "      <th>data</th>\n",
              "    </tr>\n",
              "  </thead>\n",
              "  <tbody>\n",
              "    <tr>\n",
              "      <th>0</th>\n",
              "      <td>Abracadabra</td>\n",
              "      <td>[[-4.1192823548, 2.5715517081, -1.0244977379, ...</td>\n",
              "    </tr>\n",
              "    <tr>\n",
              "      <th>1</th>\n",
              "      <td>Abracadabra</td>\n",
              "      <td>[[-2.4480854167, 3.5900198295, -1.8321097403, ...</td>\n",
              "    </tr>\n",
              "    <tr>\n",
              "      <th>2</th>\n",
              "      <td>Between_The_Bars</td>\n",
              "      <td>[[-4.8465710655, 2.3171295814, -0.0924338127, ...</td>\n",
              "    </tr>\n",
              "    <tr>\n",
              "      <th>3</th>\n",
              "      <td>Between_The_Bars</td>\n",
              "      <td>[[-4.5400104752, 2.9157706856, -0.2943556108, ...</td>\n",
              "    </tr>\n",
              "    <tr>\n",
              "      <th>4</th>\n",
              "      <td>All_Tomorrow_s_Parties</td>\n",
              "      <td>[[-4.6809713755, 2.7040989104, -0.5291231463, ...</td>\n",
              "    </tr>\n",
              "  </tbody>\n",
              "</table>\n",
              "</div>"
            ]
          },
          "metadata": {
            "tags": []
          },
          "execution_count": 79
        }
      ]
    },
    {
      "cell_type": "code",
      "metadata": {
        "colab": {
          "base_uri": "https://localhost:8080/"
        },
        "id": "giR81uzVaQRk",
        "outputId": "1e8e71b2-bb5b-49bb-da8e-ac3616138132"
      },
      "source": [
        "print('Point clouds:\\nOriginal shape: {}'.format(np.array(df_as.iloc[0].data).shape))"
      ],
      "execution_count": null,
      "outputs": [
        {
          "output_type": "stream",
          "text": [
            "Point clouds:\n",
            "Original shape: (58, 30)\n"
          ],
          "name": "stdout"
        }
      ]
    },
    {
      "cell_type": "markdown",
      "metadata": {
        "id": "EKnhu4UYZkg5"
      },
      "source": [
        "Tonnetz features, 60s duration, offset 10"
      ]
    },
    {
      "cell_type": "code",
      "metadata": {
        "colab": {
          "base_uri": "https://localhost:8080/",
          "height": 204
        },
        "id": "_opENob5aQpr",
        "outputId": "b70cba93-67d2-417c-e154-c56ca63cf1ad"
      },
      "source": [
        "df_ts[['name', 'data', 'data_optimized']].head()"
      ],
      "execution_count": null,
      "outputs": [
        {
          "output_type": "execute_result",
          "data": {
            "text/plain": [
              "                   name                                               data  \\\n",
              "0           Caroline_No  [[-1.5858895715, 1.3413441156, -0.1055902599, ...   \n",
              "1           Caroline_No  [[1.3080404403, -0.6044510957, 1.4758249653, -...   \n",
              "2      Between_The_Bars  [[1.8867760943, 0.6353188351, -0.424381151, -0...   \n",
              "3      Between_The_Bars  [[0.3243762713, 0.5022660379, -1.8999438226, 1...   \n",
              "4  Before_You_Accuse_Me  [[-0.0267137987, -0.4008866119, -1.2454975819,...   \n",
              "\n",
              "                                      data_optimized  \n",
              "0  [[-1.6457545757, 1.4071550368999999, -0.071545...  \n",
              "1  [[1.0761038065, -0.7231699824000001, 1.6963046...  \n",
              "2  [[1.9328298569000002, 0.6648994684, -0.1995572...  \n",
              "3  [[0.2845159769, 0.6938699484, -1.9528387784999...  \n",
              "4  [[-0.1234773099, -0.16961076860000002, -1.3394...  "
            ],
            "text/html": [
              "<div>\n",
              "<style scoped>\n",
              "    .dataframe tbody tr th:only-of-type {\n",
              "        vertical-align: middle;\n",
              "    }\n",
              "\n",
              "    .dataframe tbody tr th {\n",
              "        vertical-align: top;\n",
              "    }\n",
              "\n",
              "    .dataframe thead th {\n",
              "        text-align: right;\n",
              "    }\n",
              "</style>\n",
              "<table border=\"1\" class=\"dataframe\">\n",
              "  <thead>\n",
              "    <tr style=\"text-align: right;\">\n",
              "      <th></th>\n",
              "      <th>name</th>\n",
              "      <th>data</th>\n",
              "      <th>data_optimized</th>\n",
              "    </tr>\n",
              "  </thead>\n",
              "  <tbody>\n",
              "    <tr>\n",
              "      <th>0</th>\n",
              "      <td>Caroline_No</td>\n",
              "      <td>[[-1.5858895715, 1.3413441156, -0.1055902599, ...</td>\n",
              "      <td>[[-1.6457545757, 1.4071550368999999, -0.071545...</td>\n",
              "    </tr>\n",
              "    <tr>\n",
              "      <th>1</th>\n",
              "      <td>Caroline_No</td>\n",
              "      <td>[[1.3080404403, -0.6044510957, 1.4758249653, -...</td>\n",
              "      <td>[[1.0761038065, -0.7231699824000001, 1.6963046...</td>\n",
              "    </tr>\n",
              "    <tr>\n",
              "      <th>2</th>\n",
              "      <td>Between_The_Bars</td>\n",
              "      <td>[[1.8867760943, 0.6353188351, -0.424381151, -0...</td>\n",
              "      <td>[[1.9328298569000002, 0.6648994684, -0.1995572...</td>\n",
              "    </tr>\n",
              "    <tr>\n",
              "      <th>3</th>\n",
              "      <td>Between_The_Bars</td>\n",
              "      <td>[[0.3243762713, 0.5022660379, -1.8999438226, 1...</td>\n",
              "      <td>[[0.2845159769, 0.6938699484, -1.9528387784999...</td>\n",
              "    </tr>\n",
              "    <tr>\n",
              "      <th>4</th>\n",
              "      <td>Before_You_Accuse_Me</td>\n",
              "      <td>[[-0.0267137987, -0.4008866119, -1.2454975819,...</td>\n",
              "      <td>[[-0.1234773099, -0.16961076860000002, -1.3394...</td>\n",
              "    </tr>\n",
              "  </tbody>\n",
              "</table>\n",
              "</div>"
            ]
          },
          "metadata": {
            "tags": []
          },
          "execution_count": 75
        }
      ]
    },
    {
      "cell_type": "code",
      "metadata": {
        "colab": {
          "base_uri": "https://localhost:8080/"
        },
        "id": "6zrnPyuOaQps",
        "outputId": "07787012-fbe7-4b83-d38e-552b352e681a"
      },
      "source": [
        "print('Point clouds:\\nOriginal shape: {}, Optimized shape: {}'.format(np.array(df_ts.iloc[0].data).shape, np.array(df_ts.iloc[0].data_optimized).shape))"
      ],
      "execution_count": null,
      "outputs": [
        {
          "output_type": "stream",
          "text": [
            "Point clouds:\n",
            "Original shape: (58, 6), Optimized shape: (58, 6)\n"
          ],
          "name": "stdout"
        }
      ]
    },
    {
      "cell_type": "markdown",
      "metadata": {
        "id": "rBMfHh40ZxHM"
      },
      "source": [
        "MFCC features, 60s duration, offset 10"
      ]
    },
    {
      "cell_type": "code",
      "metadata": {
        "colab": {
          "base_uri": "https://localhost:8080/",
          "height": 204
        },
        "id": "FJyClUOIaQ_8",
        "outputId": "11ea1719-24be-4d53-e27c-5a026ce82326"
      },
      "source": [
        "df_ms[['name', 'data']].head()"
      ],
      "execution_count": null,
      "outputs": [
        {
          "output_type": "execute_result",
          "data": {
            "text/plain": [
              "                     name                                               data\n",
              "0    Before_You_Accuse_Me  [[-2.3268313408, 2.1591043472, -0.837438523800...\n",
              "1    Before_You_Accuse_Me  [[-2.8247349262, 1.5663126707, -0.3321456611, ...\n",
              "2         Blue_Collar_Man  [[-2.1218531132, 1.8044158220000002, -1.387530...\n",
              "3         Blue_Collar_Man  [[-2.5891852378999998, 1.7416411638, -0.903010...\n",
              "4  A_Whiter_Shade_Of_Pale  [[-2.6545593739, 2.0621275902, -0.4001491964, ..."
            ],
            "text/html": [
              "<div>\n",
              "<style scoped>\n",
              "    .dataframe tbody tr th:only-of-type {\n",
              "        vertical-align: middle;\n",
              "    }\n",
              "\n",
              "    .dataframe tbody tr th {\n",
              "        vertical-align: top;\n",
              "    }\n",
              "\n",
              "    .dataframe thead th {\n",
              "        text-align: right;\n",
              "    }\n",
              "</style>\n",
              "<table border=\"1\" class=\"dataframe\">\n",
              "  <thead>\n",
              "    <tr style=\"text-align: right;\">\n",
              "      <th></th>\n",
              "      <th>name</th>\n",
              "      <th>data</th>\n",
              "    </tr>\n",
              "  </thead>\n",
              "  <tbody>\n",
              "    <tr>\n",
              "      <th>0</th>\n",
              "      <td>Before_You_Accuse_Me</td>\n",
              "      <td>[[-2.3268313408, 2.1591043472, -0.837438523800...</td>\n",
              "    </tr>\n",
              "    <tr>\n",
              "      <th>1</th>\n",
              "      <td>Before_You_Accuse_Me</td>\n",
              "      <td>[[-2.8247349262, 1.5663126707, -0.3321456611, ...</td>\n",
              "    </tr>\n",
              "    <tr>\n",
              "      <th>2</th>\n",
              "      <td>Blue_Collar_Man</td>\n",
              "      <td>[[-2.1218531132, 1.8044158220000002, -1.387530...</td>\n",
              "    </tr>\n",
              "    <tr>\n",
              "      <th>3</th>\n",
              "      <td>Blue_Collar_Man</td>\n",
              "      <td>[[-2.5891852378999998, 1.7416411638, -0.903010...</td>\n",
              "    </tr>\n",
              "    <tr>\n",
              "      <th>4</th>\n",
              "      <td>A_Whiter_Shade_Of_Pale</td>\n",
              "      <td>[[-2.6545593739, 2.0621275902, -0.4001491964, ...</td>\n",
              "    </tr>\n",
              "  </tbody>\n",
              "</table>\n",
              "</div>"
            ]
          },
          "metadata": {
            "tags": []
          },
          "execution_count": 80
        }
      ]
    },
    {
      "cell_type": "code",
      "metadata": {
        "colab": {
          "base_uri": "https://localhost:8080/"
        },
        "id": "SsrDdlXzaQ_8",
        "outputId": "7253b4f2-95ce-4e42-9ac9-e9b350607917"
      },
      "source": [
        "print('Point clouds:\\nOriginal shape: {}'.format(np.array(df_ms.iloc[0].data).shape))"
      ],
      "execution_count": null,
      "outputs": [
        {
          "output_type": "stream",
          "text": [
            "Point clouds:\n",
            "Original shape: (58, 12)\n"
          ],
          "name": "stdout"
        }
      ]
    },
    {
      "cell_type": "markdown",
      "metadata": {
        "id": "PxkcaavyblDn"
      },
      "source": [
        "##Persistences"
      ]
    },
    {
      "cell_type": "markdown",
      "metadata": {
        "id": "NRystBtIbruU"
      },
      "source": [
        "All features, full duration"
      ]
    },
    {
      "cell_type": "code",
      "metadata": {
        "colab": {
          "base_uri": "https://localhost:8080/",
          "height": 204
        },
        "id": "neYaja1UbruU",
        "outputId": "8785d789-3c77-4bfe-b214-000bcce6a9d9"
      },
      "source": [
        "df_af[['data_persistence',\t'sparse_data_persistence',\t'persistence_DTM']].head()"
      ],
      "execution_count": null,
      "outputs": [
        {
          "output_type": "execute_result",
          "data": {
            "text/plain": [
              "                                    data_persistence  \\\n",
              "0  [[0.1094097145805614, 0.12137259882970743], [0...   \n",
              "1  [[0.1045619147392185, 0.10743337351340193], [0...   \n",
              "2  [[0.06790466417597524, 0.06818033920708515], [...   \n",
              "3  [[0.10580752054306773, 0.10940967443283095], [...   \n",
              "4  [[0.10202236453318293, 0.10319306358017796], [...   \n",
              "\n",
              "                             sparse_data_persistence  \\\n",
              "0  [[0.042162738699184264, 0.048191150481170675],...   \n",
              "1  [[0.04802474265264288, 0.04871496022500302], [...   \n",
              "2  [[0.0367908284253205, 0.03943774545585612], [0...   \n",
              "3  [[0.0462209527173466, 0.04896847377711813], [0...   \n",
              "4  [[0.05057067407293822, 0.05380395605190395], [...   \n",
              "\n",
              "                                     persistence_DTM  \n",
              "0  [[0.17748904276333044, 0.20756523346879102], [...  \n",
              "1  [[0.148797029908147, 0.1742707589916287], [0.1...  \n",
              "2  [[0.11018035373148093, 0.12756586602370615], [...  \n",
              "3  [[0.15685645423573624, 0.18379424711058168], [...  \n",
              "4  [[0.21973427447584812, 0.2571377896769305], [0...  "
            ],
            "text/html": [
              "<div>\n",
              "<style scoped>\n",
              "    .dataframe tbody tr th:only-of-type {\n",
              "        vertical-align: middle;\n",
              "    }\n",
              "\n",
              "    .dataframe tbody tr th {\n",
              "        vertical-align: top;\n",
              "    }\n",
              "\n",
              "    .dataframe thead th {\n",
              "        text-align: right;\n",
              "    }\n",
              "</style>\n",
              "<table border=\"1\" class=\"dataframe\">\n",
              "  <thead>\n",
              "    <tr style=\"text-align: right;\">\n",
              "      <th></th>\n",
              "      <th>data_persistence</th>\n",
              "      <th>sparse_data_persistence</th>\n",
              "      <th>persistence_DTM</th>\n",
              "    </tr>\n",
              "  </thead>\n",
              "  <tbody>\n",
              "    <tr>\n",
              "      <th>0</th>\n",
              "      <td>[[0.1094097145805614, 0.12137259882970743], [0...</td>\n",
              "      <td>[[0.042162738699184264, 0.048191150481170675],...</td>\n",
              "      <td>[[0.17748904276333044, 0.20756523346879102], [...</td>\n",
              "    </tr>\n",
              "    <tr>\n",
              "      <th>1</th>\n",
              "      <td>[[0.1045619147392185, 0.10743337351340193], [0...</td>\n",
              "      <td>[[0.04802474265264288, 0.04871496022500302], [...</td>\n",
              "      <td>[[0.148797029908147, 0.1742707589916287], [0.1...</td>\n",
              "    </tr>\n",
              "    <tr>\n",
              "      <th>2</th>\n",
              "      <td>[[0.06790466417597524, 0.06818033920708515], [...</td>\n",
              "      <td>[[0.0367908284253205, 0.03943774545585612], [0...</td>\n",
              "      <td>[[0.11018035373148093, 0.12756586602370615], [...</td>\n",
              "    </tr>\n",
              "    <tr>\n",
              "      <th>3</th>\n",
              "      <td>[[0.10580752054306773, 0.10940967443283095], [...</td>\n",
              "      <td>[[0.0462209527173466, 0.04896847377711813], [0...</td>\n",
              "      <td>[[0.15685645423573624, 0.18379424711058168], [...</td>\n",
              "    </tr>\n",
              "    <tr>\n",
              "      <th>4</th>\n",
              "      <td>[[0.10202236453318293, 0.10319306358017796], [...</td>\n",
              "      <td>[[0.05057067407293822, 0.05380395605190395], [...</td>\n",
              "      <td>[[0.21973427447584812, 0.2571377896769305], [0...</td>\n",
              "    </tr>\n",
              "  </tbody>\n",
              "</table>\n",
              "</div>"
            ]
          },
          "metadata": {
            "tags": []
          },
          "execution_count": 83
        }
      ]
    },
    {
      "cell_type": "code",
      "metadata": {
        "colab": {
          "base_uri": "https://localhost:8080/"
        },
        "id": "-7vu8aIBbruV",
        "outputId": "23498838-6fef-40d7-ab40-67e51668b501"
      },
      "source": [
        "print('Persistences:\\nOriginal shape: {}, Sparse shape: {}, DTM shape: {}'.format(df_af.iloc[0].data_persistence.shape, \n",
        "                                                                                  df_af.iloc[0].sparse_data_persistence.shape, \n",
        "                                                                                  df_af.iloc[0].persistence_DTM.shape))"
      ],
      "execution_count": null,
      "outputs": [
        {
          "output_type": "stream",
          "text": [
            "Persistences:\n",
            "Original shape: (110, 2), Sparse shape: (17, 2), DTM shape: (298, 2)\n"
          ],
          "name": "stdout"
        }
      ]
    },
    {
      "cell_type": "markdown",
      "metadata": {
        "id": "EqCUphBSbruV"
      },
      "source": [
        "Tonnetz features, full duration"
      ]
    },
    {
      "cell_type": "code",
      "metadata": {
        "colab": {
          "base_uri": "https://localhost:8080/",
          "height": 204
        },
        "id": "7S_xrA9UbruV",
        "outputId": "81aa8db8-1e93-4f5d-8103-39a6ab89e938"
      },
      "source": [
        "df_tf[['data_persistence',\t'sparse_data_persistence','sparse_data_optimized_persistence','persistence_DTM']].head()"
      ],
      "execution_count": null,
      "outputs": [
        {
          "output_type": "execute_result",
          "data": {
            "text/plain": [
              "                                    data_persistence  \\\n",
              "0  [[0.25036165963245466, 0.25830715539041826], [...   \n",
              "1  [[0.34240295037505447, 0.34481871906107986], [...   \n",
              "2  [[0.34313096763871254, 0.3527574680127924], [0...   \n",
              "3  [[0.32294846614874356, 0.3785229636696715], [0...   \n",
              "4  [[0.28241508629485534, 0.30087323221886364], [...   \n",
              "\n",
              "                             sparse_data_persistence  \\\n",
              "0  [[0.1762515338430546, 0.18988114485291255], [0...   \n",
              "1  [[0.2538060425356289, 0.26840997843719727], [0...   \n",
              "2  [[0.1511386156478471, 0.16528632746767957], [0...   \n",
              "3  [[0.14675995020269778, 0.1647545656542942], [0...   \n",
              "4  [[0.2539568670330035, 0.28549273688987], [0.35...   \n",
              "\n",
              "                   sparse_data_optimized_persistence  \\\n",
              "0  [[0.2051328886697701, 0.3026364757980318], [0....   \n",
              "1  [[0.2860193050834116, 0.33483013955894464], [0...   \n",
              "2  [[0.19286199408797405, 0.26971546597188406], [...   \n",
              "3  [[0.1760023250532623, 0.21583253201739508], [0...   \n",
              "4  [[0.2505239794184721, 0.3431616947566372], [0....   \n",
              "\n",
              "                                     persistence_DTM  \n",
              "0  [[0.4008460225009832, 0.4441483384124842], [0....  \n",
              "1  [[0.625292138075233, 0.7167460673362508], [0.6...  \n",
              "2  [[0.4345151580786134, 0.47449799757719374], [0...  \n",
              "3  [[0.40074708321821273, 0.5068355494783053], [0...  \n",
              "4  [[0.3342199698148699, 0.38822379593413664], [0...  "
            ],
            "text/html": [
              "<div>\n",
              "<style scoped>\n",
              "    .dataframe tbody tr th:only-of-type {\n",
              "        vertical-align: middle;\n",
              "    }\n",
              "\n",
              "    .dataframe tbody tr th {\n",
              "        vertical-align: top;\n",
              "    }\n",
              "\n",
              "    .dataframe thead th {\n",
              "        text-align: right;\n",
              "    }\n",
              "</style>\n",
              "<table border=\"1\" class=\"dataframe\">\n",
              "  <thead>\n",
              "    <tr style=\"text-align: right;\">\n",
              "      <th></th>\n",
              "      <th>data_persistence</th>\n",
              "      <th>sparse_data_persistence</th>\n",
              "      <th>sparse_data_optimized_persistence</th>\n",
              "      <th>persistence_DTM</th>\n",
              "    </tr>\n",
              "  </thead>\n",
              "  <tbody>\n",
              "    <tr>\n",
              "      <th>0</th>\n",
              "      <td>[[0.25036165963245466, 0.25830715539041826], [...</td>\n",
              "      <td>[[0.1762515338430546, 0.18988114485291255], [0...</td>\n",
              "      <td>[[0.2051328886697701, 0.3026364757980318], [0....</td>\n",
              "      <td>[[0.4008460225009832, 0.4441483384124842], [0....</td>\n",
              "    </tr>\n",
              "    <tr>\n",
              "      <th>1</th>\n",
              "      <td>[[0.34240295037505447, 0.34481871906107986], [...</td>\n",
              "      <td>[[0.2538060425356289, 0.26840997843719727], [0...</td>\n",
              "      <td>[[0.2860193050834116, 0.33483013955894464], [0...</td>\n",
              "      <td>[[0.625292138075233, 0.7167460673362508], [0.6...</td>\n",
              "    </tr>\n",
              "    <tr>\n",
              "      <th>2</th>\n",
              "      <td>[[0.34313096763871254, 0.3527574680127924], [0...</td>\n",
              "      <td>[[0.1511386156478471, 0.16528632746767957], [0...</td>\n",
              "      <td>[[0.19286199408797405, 0.26971546597188406], [...</td>\n",
              "      <td>[[0.4345151580786134, 0.47449799757719374], [0...</td>\n",
              "    </tr>\n",
              "    <tr>\n",
              "      <th>3</th>\n",
              "      <td>[[0.32294846614874356, 0.3785229636696715], [0...</td>\n",
              "      <td>[[0.14675995020269778, 0.1647545656542942], [0...</td>\n",
              "      <td>[[0.1760023250532623, 0.21583253201739508], [0...</td>\n",
              "      <td>[[0.40074708321821273, 0.5068355494783053], [0...</td>\n",
              "    </tr>\n",
              "    <tr>\n",
              "      <th>4</th>\n",
              "      <td>[[0.28241508629485534, 0.30087323221886364], [...</td>\n",
              "      <td>[[0.2539568670330035, 0.28549273688987], [0.35...</td>\n",
              "      <td>[[0.2505239794184721, 0.3431616947566372], [0....</td>\n",
              "      <td>[[0.3342199698148699, 0.38822379593413664], [0...</td>\n",
              "    </tr>\n",
              "  </tbody>\n",
              "</table>\n",
              "</div>"
            ]
          },
          "metadata": {
            "tags": []
          },
          "execution_count": 89
        }
      ]
    },
    {
      "cell_type": "code",
      "metadata": {
        "colab": {
          "base_uri": "https://localhost:8080/"
        },
        "id": "shf3Y22-bruW",
        "outputId": "fec3e191-147c-4e49-f3f9-9c76946f9244"
      },
      "source": [
        "print('Persistences:\\nOriginal shape: {}, Sparse shape: {}, Sparse optimized: {}, DTM shape: {}'.format(df_tf.iloc[0].data_persistence.shape, \n",
        "                                                                                  df_tf.iloc[0].sparse_data_persistence.shape, \n",
        "                                                                                  df_tf.iloc[0].sparse_data_optimized_persistence.shape, \n",
        "                                                                                  df_tf.iloc[0].persistence_DTM.shape))"
      ],
      "execution_count": null,
      "outputs": [
        {
          "output_type": "stream",
          "text": [
            "Persistences:\n",
            "Original shape: (137, 2), Sparse shape: (20, 2), Sparse optimized: (21, 2), DTM shape: (359, 2)\n"
          ],
          "name": "stdout"
        }
      ]
    },
    {
      "cell_type": "markdown",
      "metadata": {
        "id": "gJqk_hiFbruW"
      },
      "source": [
        "MFCC features, full duration"
      ]
    },
    {
      "cell_type": "code",
      "metadata": {
        "colab": {
          "base_uri": "https://localhost:8080/",
          "height": 204
        },
        "id": "q_fikZe4bruW",
        "outputId": "71874288-7f39-46fd-f511-5c3e00790fa4"
      },
      "source": [
        "df_mf[['data_persistence',\t'sparse_data_persistence',\t'persistence_DTM']].head()"
      ],
      "execution_count": null,
      "outputs": [
        {
          "output_type": "execute_result",
          "data": {
            "text/plain": [
              "                                    data_persistence  \\\n",
              "0  [[0.0648611062025578, 0.06660041766799896], [0...   \n",
              "1  [[0.044565020142300245, 0.052324462338377946],...   \n",
              "2  [[0.04132139556276693, 0.04498951966679391], [...   \n",
              "3  [[0.06822373728692059, 0.07017983848791108], [...   \n",
              "4  [[0.07366879188382769, 0.07406850447511183], [...   \n",
              "\n",
              "                             sparse_data_persistence  \\\n",
              "0  [[0.02103831592833422, 0.02567016574777614], [...   \n",
              "1  [[0.04246564284343271, 0.0445317942751463], [0...   \n",
              "2  [[0.045242583253528874, 0.04746639278533357], ...   \n",
              "3  [[0.023003079939584805, 0.030200879179894335],...   \n",
              "4  [[0.02776472215266603, 0.030073548321859846], ...   \n",
              "\n",
              "                                     persistence_DTM  \n",
              "0  [[0.13119167060616357, 0.15085634407032725], [...  \n",
              "1  [[0.09173622976969556, 0.10138627776736335], [...  \n",
              "2  [[0.0687986275865801, 0.0767857986710767], [0....  \n",
              "3  [[0.0961893213778875, 0.10955957899620875], [0...  \n",
              "4  [[0.10078188031135547, 0.11507473045188674], [...  "
            ],
            "text/html": [
              "<div>\n",
              "<style scoped>\n",
              "    .dataframe tbody tr th:only-of-type {\n",
              "        vertical-align: middle;\n",
              "    }\n",
              "\n",
              "    .dataframe tbody tr th {\n",
              "        vertical-align: top;\n",
              "    }\n",
              "\n",
              "    .dataframe thead th {\n",
              "        text-align: right;\n",
              "    }\n",
              "</style>\n",
              "<table border=\"1\" class=\"dataframe\">\n",
              "  <thead>\n",
              "    <tr style=\"text-align: right;\">\n",
              "      <th></th>\n",
              "      <th>data_persistence</th>\n",
              "      <th>sparse_data_persistence</th>\n",
              "      <th>persistence_DTM</th>\n",
              "    </tr>\n",
              "  </thead>\n",
              "  <tbody>\n",
              "    <tr>\n",
              "      <th>0</th>\n",
              "      <td>[[0.0648611062025578, 0.06660041766799896], [0...</td>\n",
              "      <td>[[0.02103831592833422, 0.02567016574777614], [...</td>\n",
              "      <td>[[0.13119167060616357, 0.15085634407032725], [...</td>\n",
              "    </tr>\n",
              "    <tr>\n",
              "      <th>1</th>\n",
              "      <td>[[0.044565020142300245, 0.052324462338377946],...</td>\n",
              "      <td>[[0.04246564284343271, 0.0445317942751463], [0...</td>\n",
              "      <td>[[0.09173622976969556, 0.10138627776736335], [...</td>\n",
              "    </tr>\n",
              "    <tr>\n",
              "      <th>2</th>\n",
              "      <td>[[0.04132139556276693, 0.04498951966679391], [...</td>\n",
              "      <td>[[0.045242583253528874, 0.04746639278533357], ...</td>\n",
              "      <td>[[0.0687986275865801, 0.0767857986710767], [0....</td>\n",
              "    </tr>\n",
              "    <tr>\n",
              "      <th>3</th>\n",
              "      <td>[[0.06822373728692059, 0.07017983848791108], [...</td>\n",
              "      <td>[[0.023003079939584805, 0.030200879179894335],...</td>\n",
              "      <td>[[0.0961893213778875, 0.10955957899620875], [0...</td>\n",
              "    </tr>\n",
              "    <tr>\n",
              "      <th>4</th>\n",
              "      <td>[[0.07366879188382769, 0.07406850447511183], [...</td>\n",
              "      <td>[[0.02776472215266603, 0.030073548321859846], ...</td>\n",
              "      <td>[[0.10078188031135547, 0.11507473045188674], [...</td>\n",
              "    </tr>\n",
              "  </tbody>\n",
              "</table>\n",
              "</div>"
            ]
          },
          "metadata": {
            "tags": []
          },
          "execution_count": 92
        }
      ]
    },
    {
      "cell_type": "code",
      "metadata": {
        "colab": {
          "base_uri": "https://localhost:8080/"
        },
        "id": "V4PrRTvUbruW",
        "outputId": "e2a784b8-0c6d-46b8-914f-701eb359be04"
      },
      "source": [
        "print('Persistences:\\nOriginal shape: {}, Sparse shape: {}, DTM shape: {}'.format(df_mf.iloc[0].data_persistence.shape, \n",
        "                                                                                  df_mf.iloc[0].sparse_data_persistence.shape, \n",
        "                                                                                  df_mf.iloc[0].persistence_DTM.shape))"
      ],
      "execution_count": null,
      "outputs": [
        {
          "output_type": "stream",
          "text": [
            "Persistences:\n",
            "Original shape: (123, 2), Sparse shape: (17, 2), DTM shape: (340, 2)\n"
          ],
          "name": "stdout"
        }
      ]
    },
    {
      "cell_type": "markdown",
      "metadata": {
        "id": "d31Yet1zbruX"
      },
      "source": [
        "All features, 60s duration, offset 10"
      ]
    },
    {
      "cell_type": "code",
      "metadata": {
        "colab": {
          "base_uri": "https://localhost:8080/",
          "height": 204
        },
        "id": "yGgGgZrYbruX",
        "outputId": "214be892-ef23-4205-a05a-595702b45485"
      },
      "source": [
        "df_as[['data_persistence',\t'persistence_DTM']].head()"
      ],
      "execution_count": null,
      "outputs": [
        {
          "output_type": "execute_result",
          "data": {
            "text/plain": [
              "                                    data_persistence  \\\n",
              "0  [[0.15807596170489882, 0.1594529553553551], [0...   \n",
              "1  [[0.1561486550037655, 0.1661563982354299], [0....   \n",
              "2  [[0.14566829258107947, 0.14677091630960482], [...   \n",
              "3  [[0.17547982882970228, 0.18323206555749347], [...   \n",
              "4  [[0.10202239048898643, 0.10319324691344858], [...   \n",
              "\n",
              "                                     persistence_DTM  \n",
              "0  [[0.10907600679639644, 0.15170317996859717], [...  \n",
              "1  [[0.15021087483566192, 0.1971340558925783], [0...  \n",
              "2  [[0.10801701971030324, 0.13598644663042303], [...  \n",
              "3  [[0.12378936996976311, 0.17175259376293484], [...  \n",
              "4  [[0.08812221320628429, 0.115932825304564], [0....  "
            ],
            "text/html": [
              "<div>\n",
              "<style scoped>\n",
              "    .dataframe tbody tr th:only-of-type {\n",
              "        vertical-align: middle;\n",
              "    }\n",
              "\n",
              "    .dataframe tbody tr th {\n",
              "        vertical-align: top;\n",
              "    }\n",
              "\n",
              "    .dataframe thead th {\n",
              "        text-align: right;\n",
              "    }\n",
              "</style>\n",
              "<table border=\"1\" class=\"dataframe\">\n",
              "  <thead>\n",
              "    <tr style=\"text-align: right;\">\n",
              "      <th></th>\n",
              "      <th>data_persistence</th>\n",
              "      <th>persistence_DTM</th>\n",
              "    </tr>\n",
              "  </thead>\n",
              "  <tbody>\n",
              "    <tr>\n",
              "      <th>0</th>\n",
              "      <td>[[0.15807596170489882, 0.1594529553553551], [0...</td>\n",
              "      <td>[[0.10907600679639644, 0.15170317996859717], [...</td>\n",
              "    </tr>\n",
              "    <tr>\n",
              "      <th>1</th>\n",
              "      <td>[[0.1561486550037655, 0.1661563982354299], [0....</td>\n",
              "      <td>[[0.15021087483566192, 0.1971340558925783], [0...</td>\n",
              "    </tr>\n",
              "    <tr>\n",
              "      <th>2</th>\n",
              "      <td>[[0.14566829258107947, 0.14677091630960482], [...</td>\n",
              "      <td>[[0.10801701971030324, 0.13598644663042303], [...</td>\n",
              "    </tr>\n",
              "    <tr>\n",
              "      <th>3</th>\n",
              "      <td>[[0.17547982882970228, 0.18323206555749347], [...</td>\n",
              "      <td>[[0.12378936996976311, 0.17175259376293484], [...</td>\n",
              "    </tr>\n",
              "    <tr>\n",
              "      <th>4</th>\n",
              "      <td>[[0.10202239048898643, 0.10319324691344858], [...</td>\n",
              "      <td>[[0.08812221320628429, 0.115932825304564], [0....</td>\n",
              "    </tr>\n",
              "  </tbody>\n",
              "</table>\n",
              "</div>"
            ]
          },
          "metadata": {
            "tags": []
          },
          "execution_count": 97
        }
      ]
    },
    {
      "cell_type": "code",
      "metadata": {
        "colab": {
          "base_uri": "https://localhost:8080/"
        },
        "id": "Wn3zUTvybruX",
        "outputId": "2341cdc5-a0a9-43a7-dba0-955fe76be2fb"
      },
      "source": [
        "print('Persistences:\\nOriginal shape: {}, DTM shape: {}'.format(df_as.iloc[0].data_persistence.shape, \n",
        "                                                                df_as.iloc[0].persistence_DTM.shape))"
      ],
      "execution_count": null,
      "outputs": [
        {
          "output_type": "stream",
          "text": [
            "Persistences:\n",
            "Original shape: (17, 2), DTM shape: (58, 2)\n"
          ],
          "name": "stdout"
        }
      ]
    },
    {
      "cell_type": "markdown",
      "metadata": {
        "id": "AqsIM-FUbruX"
      },
      "source": [
        "Tonnetz features, 60s duration, offset 10"
      ]
    },
    {
      "cell_type": "code",
      "metadata": {
        "colab": {
          "base_uri": "https://localhost:8080/",
          "height": 204
        },
        "id": "LNTjtECNbruX",
        "outputId": "e82371f6-c8ef-46ac-c382-f845d1dc5b1c"
      },
      "source": [
        "df_ts[['data_persistence', 'data_optimized_persistence','persistence_DTM']].head()"
      ],
      "execution_count": null,
      "outputs": [
        {
          "output_type": "execute_result",
          "data": {
            "text/plain": [
              "                                    data_persistence  \\\n",
              "0  [[0.7773231686613057, 0.7870581629115722], [0....   \n",
              "1  [[0.7997119648063664, 0.9029750933500872], [0....   \n",
              "2  [[0.8955607197564367, 0.9217455527298838], [0....   \n",
              "3  [[0.6130286662185176, 0.6198799653447066], [0....   \n",
              "4  [[0.9272402991455244, 0.9278581471221764], [0....   \n",
              "\n",
              "                          data_optimized_persistence  \\\n",
              "0  [[0.648979669664938, 0.999529038351611], [0.89...   \n",
              "1  [[1.2679723038277335, 1.278061475843354], [1.2...   \n",
              "2  [[0.7517587031013548, 0.8467899592971884], [0....   \n",
              "3  [[0.7281299640350916, 0.7287003641855017], [0....   \n",
              "4  [[0.9462409051338865, 1.3940687675208452], [0....   \n",
              "\n",
              "                                     persistence_DTM  \n",
              "0  [[0.3440418788444581, 0.4207122952505035], [0....  \n",
              "1  [[0.5968394367487952, 0.762297301427455], [0.5...  \n",
              "2  [[0.3667723049069644, 0.4164461884789305], [0....  \n",
              "3  [[0.35220113565636546, 0.40825869181811814], [...  \n",
              "4  [[0.7200535385085948, 0.8248844932999402], [0....  "
            ],
            "text/html": [
              "<div>\n",
              "<style scoped>\n",
              "    .dataframe tbody tr th:only-of-type {\n",
              "        vertical-align: middle;\n",
              "    }\n",
              "\n",
              "    .dataframe tbody tr th {\n",
              "        vertical-align: top;\n",
              "    }\n",
              "\n",
              "    .dataframe thead th {\n",
              "        text-align: right;\n",
              "    }\n",
              "</style>\n",
              "<table border=\"1\" class=\"dataframe\">\n",
              "  <thead>\n",
              "    <tr style=\"text-align: right;\">\n",
              "      <th></th>\n",
              "      <th>data_persistence</th>\n",
              "      <th>data_optimized_persistence</th>\n",
              "      <th>persistence_DTM</th>\n",
              "    </tr>\n",
              "  </thead>\n",
              "  <tbody>\n",
              "    <tr>\n",
              "      <th>0</th>\n",
              "      <td>[[0.7773231686613057, 0.7870581629115722], [0....</td>\n",
              "      <td>[[0.648979669664938, 0.999529038351611], [0.89...</td>\n",
              "      <td>[[0.3440418788444581, 0.4207122952505035], [0....</td>\n",
              "    </tr>\n",
              "    <tr>\n",
              "      <th>1</th>\n",
              "      <td>[[0.7997119648063664, 0.9029750933500872], [0....</td>\n",
              "      <td>[[1.2679723038277335, 1.278061475843354], [1.2...</td>\n",
              "      <td>[[0.5968394367487952, 0.762297301427455], [0.5...</td>\n",
              "    </tr>\n",
              "    <tr>\n",
              "      <th>2</th>\n",
              "      <td>[[0.8955607197564367, 0.9217455527298838], [0....</td>\n",
              "      <td>[[0.7517587031013548, 0.8467899592971884], [0....</td>\n",
              "      <td>[[0.3667723049069644, 0.4164461884789305], [0....</td>\n",
              "    </tr>\n",
              "    <tr>\n",
              "      <th>3</th>\n",
              "      <td>[[0.6130286662185176, 0.6198799653447066], [0....</td>\n",
              "      <td>[[0.7281299640350916, 0.7287003641855017], [0....</td>\n",
              "      <td>[[0.35220113565636546, 0.40825869181811814], [...</td>\n",
              "    </tr>\n",
              "    <tr>\n",
              "      <th>4</th>\n",
              "      <td>[[0.9272402991455244, 0.9278581471221764], [0....</td>\n",
              "      <td>[[0.9462409051338865, 1.3940687675208452], [0....</td>\n",
              "      <td>[[0.7200535385085948, 0.8248844932999402], [0....</td>\n",
              "    </tr>\n",
              "  </tbody>\n",
              "</table>\n",
              "</div>"
            ]
          },
          "metadata": {
            "tags": []
          },
          "execution_count": 99
        }
      ]
    },
    {
      "cell_type": "code",
      "metadata": {
        "colab": {
          "base_uri": "https://localhost:8080/"
        },
        "id": "zV6v0NPLbruY",
        "outputId": "15b1b765-adb4-45e7-d85c-7dcd409501f6"
      },
      "source": [
        "print('Persistences:\\nOriginal shape: {}, Optimized shape: {}, DTM shape: {}'.format(df_ts.iloc[0].data_persistence.shape, \n",
        "                                                                                  df_ts.iloc[0].data_optimized_persistence.shape, \n",
        "                                                                                  df_ts.iloc[0].persistence_DTM.shape))"
      ],
      "execution_count": null,
      "outputs": [
        {
          "output_type": "stream",
          "text": [
            "Persistences:\n",
            "Original shape: (12, 2), Optimized shape: (12, 2), DTM shape: (58, 2)\n"
          ],
          "name": "stdout"
        }
      ]
    },
    {
      "cell_type": "markdown",
      "metadata": {
        "id": "9zzVzWR5bruY"
      },
      "source": [
        "MFCC features, 60s duration, offset 10"
      ]
    },
    {
      "cell_type": "code",
      "metadata": {
        "colab": {
          "base_uri": "https://localhost:8080/",
          "height": 204
        },
        "id": "lb6gAEARbruY",
        "outputId": "2aead088-4e91-4b54-9eeb-88daadcbb97a"
      },
      "source": [
        "df_ms[['data_persistence', 'persistence_DTM']].head()"
      ],
      "execution_count": null,
      "outputs": [
        {
          "output_type": "execute_result",
          "data": {
            "text/plain": [
              "                                    data_persistence  \\\n",
              "0  [[0.12763722165651425, 0.14870583519766478], [...   \n",
              "1  [[0.11917964109869357, 0.1198013059821121], [0...   \n",
              "2  [[0.09482215347214043, 0.1034720034935996], [0...   \n",
              "3  [[0.0622551246022995, 0.0670817101800795], [0....   \n",
              "4  [[0.09208173832998556, 0.0945020913239662], [0...   \n",
              "\n",
              "                                     persistence_DTM  \n",
              "0  [[0.11702951586111672, 0.14867796743670564], [...  \n",
              "1  [[0.08280780008365674, 0.10814824495056002], [...  \n",
              "2  [[0.08126402311186955, 0.10661572322095238], [...  \n",
              "3  [[0.04556873055395506, 0.06213506701851097], [...  \n",
              "4  [[0.07354152678679209, 0.09967335353942122], [...  "
            ],
            "text/html": [
              "<div>\n",
              "<style scoped>\n",
              "    .dataframe tbody tr th:only-of-type {\n",
              "        vertical-align: middle;\n",
              "    }\n",
              "\n",
              "    .dataframe tbody tr th {\n",
              "        vertical-align: top;\n",
              "    }\n",
              "\n",
              "    .dataframe thead th {\n",
              "        text-align: right;\n",
              "    }\n",
              "</style>\n",
              "<table border=\"1\" class=\"dataframe\">\n",
              "  <thead>\n",
              "    <tr style=\"text-align: right;\">\n",
              "      <th></th>\n",
              "      <th>data_persistence</th>\n",
              "      <th>persistence_DTM</th>\n",
              "    </tr>\n",
              "  </thead>\n",
              "  <tbody>\n",
              "    <tr>\n",
              "      <th>0</th>\n",
              "      <td>[[0.12763722165651425, 0.14870583519766478], [...</td>\n",
              "      <td>[[0.11702951586111672, 0.14867796743670564], [...</td>\n",
              "    </tr>\n",
              "    <tr>\n",
              "      <th>1</th>\n",
              "      <td>[[0.11917964109869357, 0.1198013059821121], [0...</td>\n",
              "      <td>[[0.08280780008365674, 0.10814824495056002], [...</td>\n",
              "    </tr>\n",
              "    <tr>\n",
              "      <th>2</th>\n",
              "      <td>[[0.09482215347214043, 0.1034720034935996], [0...</td>\n",
              "      <td>[[0.08126402311186955, 0.10661572322095238], [...</td>\n",
              "    </tr>\n",
              "    <tr>\n",
              "      <th>3</th>\n",
              "      <td>[[0.0622551246022995, 0.0670817101800795], [0....</td>\n",
              "      <td>[[0.04556873055395506, 0.06213506701851097], [...</td>\n",
              "    </tr>\n",
              "    <tr>\n",
              "      <th>4</th>\n",
              "      <td>[[0.09208173832998556, 0.0945020913239662], [0...</td>\n",
              "      <td>[[0.07354152678679209, 0.09967335353942122], [...</td>\n",
              "    </tr>\n",
              "  </tbody>\n",
              "</table>\n",
              "</div>"
            ]
          },
          "metadata": {
            "tags": []
          },
          "execution_count": 102
        }
      ]
    },
    {
      "cell_type": "code",
      "metadata": {
        "colab": {
          "base_uri": "https://localhost:8080/"
        },
        "id": "nCFiwtEgbruZ",
        "outputId": "24765baf-37d2-4704-c017-5c6ce461abd5"
      },
      "source": [
        "print('Persistences:\\nOriginal shape: {}, DTM shape: {}'.format(df_ms.iloc[0].data_persistence.shape, \n",
        "                                                                df_ms.iloc[0].persistence_DTM.shape))"
      ],
      "execution_count": null,
      "outputs": [
        {
          "output_type": "stream",
          "text": [
            "Persistences:\n",
            "Original shape: (11, 2), DTM shape: (58, 2)\n"
          ],
          "name": "stdout"
        }
      ]
    },
    {
      "cell_type": "markdown",
      "metadata": {
        "id": "7fdm1OM3ovXv"
      },
      "source": [
        "#Saving datasets"
      ]
    },
    {
      "cell_type": "code",
      "metadata": {
        "id": "rnLk6vpAdm3t"
      },
      "source": [
        "out_dir = \"C:\\\\Users\\\\Hp\\\\PycharmProjects\\\\TDA_Cover_detection\\\\pers_df\\\\\""
      ],
      "execution_count": null,
      "outputs": []
    },
    {
      "cell_type": "code",
      "metadata": {
        "id": "9_ahWDCxofXR"
      },
      "source": [
        "df_af.to_json(out_dir + 'all_full.json')\n",
        "df_tf.to_json(out_dir + 'tonnetz_full.json')\n",
        "df_mf.to_json(out_dir + 'mfcc_full.json')\n",
        "\n",
        "df_as.to_json(out_dir + 'all_short.json')\n",
        "df_ts.to_json(out_dir + 'tonnetz_short.json')\n",
        "df_ms.to_json(out_dir + 'mfcc_short.json')"
      ],
      "execution_count": null,
      "outputs": []
    },
    {
      "cell_type": "markdown",
      "metadata": {
        "id": "jw9iTd5deDKe"
      },
      "source": [
        "#Summary\n",
        "\n",
        "We have:\n",
        "1. full audio\n",
        "  1. all features\n",
        "    1. data_persistence\n",
        "    2. sparse_data_persistence\n",
        "    3. persistence_DTM\n",
        "  2. tonnetz features\n",
        "    4. data_persistence\t\n",
        "    5. sparse_data_persistence\n",
        "    6. sparse_data_optimized_persistence\n",
        "    7. persistence_DTM\n",
        "  3. mfcc features\n",
        "    8. data_persistence\n",
        "    9. sparse_data_persistence\n",
        "    10. persistence_DTM\n",
        "2. 60s audio\n",
        "  1. all features\n",
        "    11. data_persistence\n",
        "    12. persistence_DTM\n",
        "  2. tonnetz features\n",
        "    13. data_persistence\t\n",
        "    14. data_optimized_persistence\n",
        "    15. persistence_DT\n",
        "  3. mfcc features\n",
        "    16. data_persistence\n",
        "    17. persistence_DTM\n",
        "\n",
        "So, we need to evaluate metrics on 17 types of persistence diagrams\n"
      ]
    }
  ]
}
