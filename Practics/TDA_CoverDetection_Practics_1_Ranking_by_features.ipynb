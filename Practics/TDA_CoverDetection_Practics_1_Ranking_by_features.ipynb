{
  "nbformat": 4,
  "nbformat_minor": 0,
  "metadata": {
    "colab": {
      "name": "TDA_CoverDetection_Practics_1_Ranking_by_features.ipynb",
      "provenance": [],
      "mount_file_id": "1-s3c-_ZjTCL3JQ2DyEKyughZfUyVuWFA",
      "authorship_tag": "ABX9TyNP+gLHQ2Jlf3E/x39agkzD",
      "include_colab_link": true
    },
    "kernelspec": {
      "name": "python3",
      "display_name": "Python 3"
    },
    "language_info": {
      "name": "python"
    }
  },
  "cells": [
    {
      "cell_type": "markdown",
      "metadata": {
        "id": "view-in-github",
        "colab_type": "text"
      },
      "source": [
        "<a href=\"https://colab.research.google.com/github/amanteur/TDA_Cover_detection/blob/main/Practics/TDA_CoverDetection_Practics_1_Ranking_by_features.ipynb\" target=\"_parent\"><img src=\"https://colab.research.google.com/assets/colab-badge.svg\" alt=\"Open In Colab\"/></a>"
      ]
    },
    {
      "cell_type": "code",
      "metadata": {
        "id": "L9jcgpPCADDz",
        "colab": {
          "base_uri": "https://localhost:8080/",
          "height": 479
        },
        "outputId": "9b2266c7-2218-4036-b89a-e24871a17a41"
      },
      "source": [
        "!pip install pandas==1.2.0\n",
        "!pip install gudhi"
      ],
      "execution_count": null,
      "outputs": [
        {
          "output_type": "stream",
          "name": "stdout",
          "text": [
            "Collecting pandas==1.2.0\n",
            "  Downloading pandas-1.2.0-cp37-cp37m-manylinux1_x86_64.whl (9.9 MB)\n",
            "\u001b[K     |████████████████████████████████| 9.9 MB 5.2 MB/s \n",
            "\u001b[?25hRequirement already satisfied: python-dateutil>=2.7.3 in /usr/local/lib/python3.7/dist-packages (from pandas==1.2.0) (2.8.2)\n",
            "Requirement already satisfied: pytz>=2017.3 in /usr/local/lib/python3.7/dist-packages (from pandas==1.2.0) (2018.9)\n",
            "Requirement already satisfied: numpy>=1.16.5 in /usr/local/lib/python3.7/dist-packages (from pandas==1.2.0) (1.19.5)\n",
            "Requirement already satisfied: six>=1.5 in /usr/local/lib/python3.7/dist-packages (from python-dateutil>=2.7.3->pandas==1.2.0) (1.15.0)\n",
            "Installing collected packages: pandas\n",
            "  Attempting uninstall: pandas\n",
            "    Found existing installation: pandas 1.1.5\n",
            "    Uninstalling pandas-1.1.5:\n",
            "      Successfully uninstalled pandas-1.1.5\n",
            "\u001b[31mERROR: pip's dependency resolver does not currently take into account all the packages that are installed. This behaviour is the source of the following dependency conflicts.\n",
            "google-colab 1.0.0 requires pandas~=1.1.0; python_version >= \"3.0\", but you have pandas 1.2.0 which is incompatible.\u001b[0m\n",
            "Successfully installed pandas-1.2.0\n"
          ]
        },
        {
          "output_type": "display_data",
          "data": {
            "application/vnd.colab-display-data+json": {
              "pip_warning": {
                "packages": [
                  "pandas"
                ]
              }
            }
          },
          "metadata": {}
        },
        {
          "output_type": "stream",
          "name": "stdout",
          "text": [
            "Collecting gudhi\n",
            "  Downloading gudhi-3.4.1.post1-cp37-cp37m-manylinux2014_x86_64.whl (28.2 MB)\n",
            "\u001b[K     |████████████████████████████████| 28.2 MB 19 kB/s \n",
            "\u001b[?25hRequirement already satisfied: numpy>=1.9 in /usr/local/lib/python3.7/dist-packages (from gudhi) (1.19.5)\n",
            "Installing collected packages: gudhi\n",
            "Successfully installed gudhi-3.4.1.post1\n"
          ]
        }
      ]
    },
    {
      "cell_type": "code",
      "metadata": {
        "id": "tjTApB5QAJrO"
      },
      "source": [
        "import numpy as np\n",
        "import os\n",
        "import pandas as pd\n",
        "from sklearn.model_selection import train_test_split\n",
        "import gudhi as gd\n",
        "import gudhi.representations as gdr"
      ],
      "execution_count": null,
      "outputs": []
    },
    {
      "cell_type": "code",
      "metadata": {
        "colab": {
          "base_uri": "https://localhost:8080/",
          "height": 35
        },
        "id": "jId7Hdi0ALi6",
        "outputId": "9b046528-9777-4cfb-d585-f00a396607f2"
      },
      "source": [
        "pd.__version__"
      ],
      "execution_count": null,
      "outputs": [
        {
          "output_type": "execute_result",
          "data": {
            "application/vnd.google.colaboratory.intrinsic+json": {
              "type": "string"
            },
            "text/plain": [
              "'1.2.0'"
            ]
          },
          "metadata": {},
          "execution_count": 7
        }
      ]
    },
    {
      "cell_type": "markdown",
      "metadata": {
        "id": "oiushyHj42DB"
      },
      "source": [
        "#Extracting data"
      ]
    },
    {
      "cell_type": "code",
      "metadata": {
        "id": "JOv0RAXE9byz"
      },
      "source": [
        "root_dir = '/content/drive/MyDrive/Colab Notebooks/CourseWork/pers_feat_datasets/'"
      ],
      "execution_count": null,
      "outputs": []
    },
    {
      "cell_type": "code",
      "metadata": {
        "id": "ai-J7vye9TtB"
      },
      "source": [
        "df_dict = {}\n",
        "for _, _, files in os.walk(root_dir):\n",
        "  for file in files:\n",
        "    name = file.split('.')[0]\n",
        "    df = pd.read_json(root_dir + file)\n",
        "    df_dict [name] = df"
      ],
      "execution_count": null,
      "outputs": []
    },
    {
      "cell_type": "code",
      "metadata": {
        "colab": {
          "base_uri": "https://localhost:8080/",
          "height": 589
        },
        "id": "M19nNLSSAylo",
        "outputId": "003fecab-8368-4ffa-e6e0-00059a423221"
      },
      "source": [
        "df_dict['af_orig']"
      ],
      "execution_count": null,
      "outputs": [
        {
          "output_type": "execute_result",
          "data": {
            "text/html": [
              "<div>\n",
              "<style scoped>\n",
              "    .dataframe tbody tr th:only-of-type {\n",
              "        vertical-align: middle;\n",
              "    }\n",
              "\n",
              "    .dataframe tbody tr th {\n",
              "        vertical-align: top;\n",
              "    }\n",
              "\n",
              "    .dataframe thead th {\n",
              "        text-align: right;\n",
              "    }\n",
              "</style>\n",
              "<table border=\"1\" class=\"dataframe\">\n",
              "  <thead>\n",
              "    <tr style=\"text-align: right;\">\n",
              "      <th></th>\n",
              "      <th>name</th>\n",
              "      <th>data_persistence</th>\n",
              "      <th>Landscape</th>\n",
              "      <th>Silhouette</th>\n",
              "      <th>Entropy_vector</th>\n",
              "      <th>Betti_curves</th>\n",
              "      <th>Entropy_scalar</th>\n",
              "    </tr>\n",
              "  </thead>\n",
              "  <tbody>\n",
              "    <tr>\n",
              "      <th>0</th>\n",
              "      <td>Blue_Collar_Man</td>\n",
              "      <td>[[0.1094097146, 0.12137259880000001], [0.12257...</td>\n",
              "      <td>[[0.0027359190000000003, 0.005471838000000001,...</td>\n",
              "      <td>[[0.0, 4.92894e-05, 9.85787e-05, 0.0001478681,...</td>\n",
              "      <td>[[0.1740598488, 0.1740598488, 0.1740598488, 0....</td>\n",
              "      <td>[[1.0, 1.0, 1.0, 1.0, 1.0, 1.0, 1.0, 1.0, 1.0,...</td>\n",
              "      <td>[5.4096585283]</td>\n",
              "    </tr>\n",
              "    <tr>\n",
              "      <th>1</th>\n",
              "      <td>Blue_Collar_Man</td>\n",
              "      <td>[[0.10456191470000001, 0.1074333735], [0.11090...</td>\n",
              "      <td>[[0.0027437115, 0.0054874231, 0.0082311346, 0....</td>\n",
              "      <td>[[0.0, 4.82775e-05, 9.65549e-05, 0.0001448324,...</td>\n",
              "      <td>[[0.18006625310000002, 0.18006625310000002, 0....</td>\n",
              "      <td>[[1.0, 1.0, 1.0, 1.0, 1.0, 2.0, 2.0, 3.0, 3.0,...</td>\n",
              "      <td>[5.55205177]</td>\n",
              "    </tr>\n",
              "    <tr>\n",
              "      <th>2</th>\n",
              "      <td>Addicted_To_Love</td>\n",
              "      <td>[[0.0679046642, 0.06818033920000001], [0.07322...</td>\n",
              "      <td>[[0.0027692639, 0.0055385278, 0.0083077918, 0....</td>\n",
              "      <td>[[0.0, 6.9536e-05, 0.0001390719, 0.0002086079,...</td>\n",
              "      <td>[[0.3346180579, 0.3346180579, 0.3346180579, 0....</td>\n",
              "      <td>[[1.0, 1.0, 1.0, 1.0, 1.0, 1.0, 1.0, 1.0, 1.0,...</td>\n",
              "      <td>[8.106067468100001]</td>\n",
              "    </tr>\n",
              "    <tr>\n",
              "      <th>3</th>\n",
              "      <td>Addicted_To_Love</td>\n",
              "      <td>[[0.1058075205, 0.1094096744], [0.1048539877, ...</td>\n",
              "      <td>[[0.0027473118, 0.0054946235, 0.00824193530000...</td>\n",
              "      <td>[[0.0, 8.81113e-05, 0.0001762226, 0.0002835577...</td>\n",
              "      <td>[[0.34514422380000004, 0.34514422380000004, 0....</td>\n",
              "      <td>[[1.0, 1.0, 1.0, 2.0, 2.0, 2.0, 2.0, 2.0, 2.0,...</td>\n",
              "      <td>[7.9458391145]</td>\n",
              "    </tr>\n",
              "    <tr>\n",
              "      <th>4</th>\n",
              "      <td>All_Tomorrow_s_Parties</td>\n",
              "      <td>[[0.1020223645, 0.10319306360000001], [0.10279...</td>\n",
              "      <td>[[0.0027412049, 0.0054824097, 0.0082236146, 0....</td>\n",
              "      <td>[[0.0, 5.2211000000000005e-05, 0.0001044219, 0...</td>\n",
              "      <td>[[0.18016593420000002, 0.18016593420000002, 0....</td>\n",
              "      <td>[[1.0, 1.0, 1.0, 1.0, 1.0, 1.0, 1.0, 1.0, 2.0,...</td>\n",
              "      <td>[5.4899468328]</td>\n",
              "    </tr>\n",
              "    <tr>\n",
              "      <th>...</th>\n",
              "      <td>...</td>\n",
              "      <td>...</td>\n",
              "      <td>...</td>\n",
              "      <td>...</td>\n",
              "      <td>...</td>\n",
              "      <td>...</td>\n",
              "      <td>...</td>\n",
              "    </tr>\n",
              "    <tr>\n",
              "      <th>159</th>\n",
              "      <td>What_s_Going_On</td>\n",
              "      <td>[[0.1759236747, 0.1806943227], [0.1733503382, ...</td>\n",
              "      <td>[[0.0026885189000000003, 0.005377037800000001,...</td>\n",
              "      <td>[[0.0, 7.95728e-05, 0.00015914570000000002, 0....</td>\n",
              "      <td>[[0.309578204, 0.309578204, 0.309578204, 0.615...</td>\n",
              "      <td>[[1.0, 1.0, 1.0, 2.0, 2.0, 2.0, 2.0, 2.0, 2.0,...</td>\n",
              "      <td>[7.6816156799]</td>\n",
              "    </tr>\n",
              "    <tr>\n",
              "      <th>160</th>\n",
              "      <td>We_Can_Work_It_Out</td>\n",
              "      <td>[[0.1273760457, 0.133167699], [0.1311880593, 0...</td>\n",
              "      <td>[[0.0026085343, 0.0052170686, 0.0078256029, 0....</td>\n",
              "      <td>[[0.0, 6.34127e-05, 0.0001268254, 0.0001902380...</td>\n",
              "      <td>[[0.36775235110000004, 0.36775235110000004, 0....</td>\n",
              "      <td>[[1.0, 1.0, 1.0, 1.0, 1.0, 1.0, 1.0, 1.0, 1.0,...</td>\n",
              "      <td>[7.0495690237]</td>\n",
              "    </tr>\n",
              "    <tr>\n",
              "      <th>161</th>\n",
              "      <td>We_Can_Work_It_Out</td>\n",
              "      <td>[[0.0834015483, 0.0889094239], [0.0906008435, ...</td>\n",
              "      <td>[[0.0021917821000000002, 0.0043835642000000005...</td>\n",
              "      <td>[[0.0, 0.0001340262, 0.0002680524, 0.000402078...</td>\n",
              "      <td>[[0.31727788560000003, 0.31727788560000003, 0....</td>\n",
              "      <td>[[1.0, 1.0, 1.0, 1.0, 1.0, 1.0, 1.0, 1.0, 1.0,...</td>\n",
              "      <td>[8.1308029254]</td>\n",
              "    </tr>\n",
              "    <tr>\n",
              "      <th>162</th>\n",
              "      <td>Yesterday</td>\n",
              "      <td>[[0.1891314084, 0.2037429114], [0.1981541631, ...</td>\n",
              "      <td>[[0.0028227816, 0.005645563100000001, 0.008468...</td>\n",
              "      <td>[[0.0, 0.00013198110000000002, 0.0002639622000...</td>\n",
              "      <td>[[0.3191602489, 0.3191602489, 0.3191602489, 0....</td>\n",
              "      <td>[[1.0, 1.0, 1.0, 1.0, 1.0, 1.0, 1.0, 1.0, 1.0,...</td>\n",
              "      <td>[7.9458674476]</td>\n",
              "    </tr>\n",
              "    <tr>\n",
              "      <th>163</th>\n",
              "      <td>Yesterday</td>\n",
              "      <td>[[0.2544588266, 0.2641751658], [0.2584842121, ...</td>\n",
              "      <td>[[0.0028227816, 0.005645563100000001, 0.008468...</td>\n",
              "      <td>[[0.0, 8.65392e-05, 0.0001730784, 0.0002596176...</td>\n",
              "      <td>[[0.3190544074, 0.3190544074, 0.3190544074, 0....</td>\n",
              "      <td>[[1.0, 1.0, 1.0, 1.0, 1.0, 1.0, 1.0, 1.0, 1.0,...</td>\n",
              "      <td>[7.3375300247]</td>\n",
              "    </tr>\n",
              "  </tbody>\n",
              "</table>\n",
              "<p>164 rows × 7 columns</p>\n",
              "</div>"
            ],
            "text/plain": [
              "                       name  ...       Entropy_scalar\n",
              "0           Blue_Collar_Man  ...       [5.4096585283]\n",
              "1           Blue_Collar_Man  ...         [5.55205177]\n",
              "2          Addicted_To_Love  ...  [8.106067468100001]\n",
              "3          Addicted_To_Love  ...       [7.9458391145]\n",
              "4    All_Tomorrow_s_Parties  ...       [5.4899468328]\n",
              "..                      ...  ...                  ...\n",
              "159         What_s_Going_On  ...       [7.6816156799]\n",
              "160      We_Can_Work_It_Out  ...       [7.0495690237]\n",
              "161      We_Can_Work_It_Out  ...       [8.1308029254]\n",
              "162               Yesterday  ...       [7.9458674476]\n",
              "163               Yesterday  ...       [7.3375300247]\n",
              "\n",
              "[164 rows x 7 columns]"
            ]
          },
          "metadata": {},
          "execution_count": 10
        }
      ]
    },
    {
      "cell_type": "markdown",
      "metadata": {
        "id": "gPmgSoXBB1aT"
      },
      "source": [
        "#Making batches for one dataset"
      ]
    },
    {
      "cell_type": "code",
      "metadata": {
        "id": "kcomnEspA1Ug"
      },
      "source": [
        "df_query = df_dict['af_orig'].drop_duplicates(subset=['name'])\n",
        "df_search = df_dict['af_orig'][~df_dict['af_orig'].index.isin(df_query.index)].drop_duplicates(subset=['name'])"
      ],
      "execution_count": null,
      "outputs": []
    },
    {
      "cell_type": "code",
      "metadata": {
        "id": "nk22zOU1ibM_"
      },
      "source": [
        "from sklearn.preprocessing import MinMaxScaler\n",
        "from sklearn.decomposition import PCA\n",
        "from tqdm import tqdm\n",
        "\n",
        "def data_preprocessing(data):\n",
        "  data_scaled = gdr.DiagramSelector(use=True, point_type=\"finite\").fit_transform(data)\n",
        "  data_scaled = gdr.DiagramScaler(use=True, scalers=[([0,1], MinMaxScaler())]).fit_transform(data_scaled)\n",
        "  data_scaled = gdr.ProminentPoints(use=True, num_pts=25).fit_transform(data_scaled)\n",
        "  return data_scaled"
      ],
      "execution_count": null,
      "outputs": []
    },
    {
      "cell_type": "code",
      "metadata": {
        "id": "y97RXeIZhG7W"
      },
      "source": [
        "def norm(data1, data2):\n",
        "  return np.linalg.norm(np.array(data1)-np.array(data2)) "
      ],
      "execution_count": null,
      "outputs": []
    },
    {
      "cell_type": "code",
      "metadata": {
        "id": "Icjl1-o7XgDv"
      },
      "source": [
        "metrics_list = ['Landscape_norm', \n",
        "                'Silhouette_norm', \n",
        "                'Entropy_norm1', \n",
        "                'Betti_curves_norm', \n",
        "                'PWG_kernel', \n",
        "                'PSS_kernel', \n",
        "                'PF_kernel', \n",
        "                'SW_kernel', \n",
        "                'Bottleneck_distance',\n",
        "                'Wasserstein_distance']"
      ],
      "execution_count": null,
      "outputs": []
    },
    {
      "cell_type": "code",
      "metadata": {
        "id": "akz8vMdKKYLT",
        "colab": {
          "base_uri": "https://localhost:8080/"
        },
        "outputId": "b5e64c32-9ce6-476d-fcc1-341c62e1b416"
      },
      "source": [
        "pers_col = next(col for col in df_query.columns if 'persistence' in col)\n",
        "metrics_dict = {}\n",
        "for index_q, row_q in tqdm(df_query.iterrows(), total=df_query.shape[0], desc = 'Progress'):\n",
        "  search_index = df_search.index[df_query['name'] == row_q['name']][0]\n",
        "  feature_dict = {}\n",
        "  diag_query = np.array(row_q[pers_col])\n",
        "  diag_X = data_preprocessing([diag_query])\n",
        "  for index_s, row_s in df_search.iterrows():\n",
        "    diag_search = np.array(row_s[pers_col])\n",
        "    diag_Y = data_preprocessing([diag_search])\n",
        "\n",
        "    #computing norms\n",
        "    #landscape\n",
        "    ls_norm = norm(row_q['Landscape'], row_s['Landscape'])\n",
        "\n",
        "    #silhouette norm 2\n",
        "    sh_norm = norm(row_q['Silhouette'], row_s['Silhouette'])\n",
        "\n",
        "    #entropy\n",
        "    et_norm = norm(row_q['Entropy_vector'], row_s['Entropy_vector'])\n",
        "    #Betti curves\n",
        "    bc_norm = norm(row_q['Betti_curves'], row_s['Betti_curves'])\n",
        "\n",
        "    #distances\n",
        "    #bottleneck\n",
        "    BD = gdr.BottleneckDistance(epsilon=.001)\n",
        "    BD.fit(diag_X)\n",
        "    bd = BD.transform(diag_Y)\n",
        "\n",
        "    #wasserstein\n",
        "    WD = gdr.WassersteinDistance(internal_p=2, order=2)\n",
        "    WD.fit(diag_X)\n",
        "    wd = WD.transform(diag_Y)\n",
        "\n",
        "    #kernels\n",
        "    ##PWG \n",
        "    PWG = gdr.PersistenceWeightedGaussianKernel(bandwidth=0.01, kernel_approx=None,\\\n",
        "                                        weight=lambda x: np.arctan(np.power(x[1], 1)))\n",
        "    PWG.fit(diag_X)\n",
        "    pwg = PWG.transform(diag_Y)\n",
        "\n",
        "    ##PSS\n",
        "    PSS = gdr.PersistenceScaleSpaceKernel(bandwidth=1.)\n",
        "    PSS.fit(diag_X)\n",
        "    pss = PSS.transform(diag_Y)\n",
        "\n",
        "    ##PF\n",
        "    PF = gdr.PersistenceFisherKernel(bandwidth_fisher=1., bandwidth=1.)\n",
        "    PF.fit(diag_X)\n",
        "    pf = PF.transform(diag_Y)\n",
        "\n",
        "    ##SW\n",
        "    SW = gdr.SlicedWassersteinKernel(bandwidth=.1, num_directions=100)\n",
        "    SW.fit(diag_X)\n",
        "    sw = SW.transform(diag_Y)\n",
        "\n",
        "    #adding to dict\n",
        "    feature_dict.setdefault(index_s, {})\n",
        "    feature_dict[index_s]['Landscape_norm'] = ls_norm\n",
        "\n",
        "    feature_dict[index_s]['Silhouette_norm'] = sh_norm\n",
        "\n",
        "    feature_dict[index_s]['Entropy_norm1'] = et_norm\n",
        "\n",
        "    feature_dict[index_s]['Betti_curves_norm'] = bc_norm\n",
        "\n",
        "    feature_dict[index_s]['PWG_kernel'] = pwg[0][0]\n",
        "    feature_dict[index_s]['PSS_kernel'] = pss[0][0]\n",
        "    feature_dict[index_s]['PF_kernel'] = pf[0][0]\n",
        "    feature_dict[index_s]['SW_kernel'] = sw[0][0]\n",
        "\n",
        "    feature_dict[index_s]['Bottleneck_distance'] = bd[0][0]\n",
        "    feature_dict[index_s]['Wasserstein_distance'] = wd[0][0]\n",
        "  dict_df = pd.DataFrame.from_dict(feature_dict).transpose()\n",
        "  dict_df.index.name = 'search_idx'\n",
        "  dict_df = dict_df.reset_index()\n",
        "  #get ranks\n",
        "  for metric in metrics_list:\n",
        "    if 'kernel' in metric:\n",
        "      asc = False\n",
        "    else:\n",
        "      asc = True\n",
        "    sorted_dict_df = dict_df.sort_values(by=metric, ascending=asc)\n",
        "    sorted_dict_df = sorted_dict_df.reset_index(drop=True)[['search_idx', metric]]\n",
        "    metrics_dict.setdefault(index_q, {})\n",
        "    metrics_dict[index_q][metric] = sorted_dict_df.index[sorted_dict_df['search_idx'] == search_index][0] + 1"
      ],
      "execution_count": null,
      "outputs": [
        {
          "output_type": "stream",
          "name": "stderr",
          "text": [
            "Progress: 100%|██████████| 80/80 [00:52<00:00,  1.51it/s]\n"
          ]
        }
      ]
    },
    {
      "cell_type": "code",
      "metadata": {
        "id": "SsC0px2YQ6Yu"
      },
      "source": [
        "rank_df =  pd.DataFrame.from_dict(metrics_dict).transpose()"
      ],
      "execution_count": null,
      "outputs": []
    },
    {
      "cell_type": "markdown",
      "metadata": {
        "id": "x0THpUO_r8TY"
      },
      "source": [
        "##Mean Average Rank (MAR)"
      ]
    },
    {
      "cell_type": "code",
      "metadata": {
        "colab": {
          "base_uri": "https://localhost:8080/"
        },
        "id": "zIDiposESgCG",
        "outputId": "5ea6bc87-c77b-43c7-dd68-f65fe3fa714a"
      },
      "source": [
        "rank_df.mean()"
      ],
      "execution_count": null,
      "outputs": [
        {
          "output_type": "execute_result",
          "data": {
            "text/plain": [
              "Landscape_norm          38.6375\n",
              "Silhouette_norm         38.9125\n",
              "Entropy_norm1           37.9000\n",
              "Betti_curves_norm       36.7000\n",
              "PWG_kernel              36.4000\n",
              "PSS_kernel              40.5500\n",
              "PF_kernel               36.8375\n",
              "SW_kernel               36.9000\n",
              "Bottleneck_distance     36.3625\n",
              "Wasserstein_distance    36.7125\n",
              "dtype: float64"
            ]
          },
          "metadata": {},
          "execution_count": 222
        }
      ]
    },
    {
      "cell_type": "markdown",
      "metadata": {
        "id": "Oc8WRy7gs4-P"
      },
      "source": [
        "## mean Average Precision"
      ]
    },
    {
      "cell_type": "code",
      "metadata": {
        "colab": {
          "base_uri": "https://localhost:8080/"
        },
        "id": "lItKjli-s6Vw",
        "outputId": "bafcfd04-1b95-438f-d483-94cbf67ee717"
      },
      "source": [
        "rank_df_AP = 1 / rank_df\n",
        "rank_df_AP.mean()"
      ],
      "execution_count": null,
      "outputs": [
        {
          "output_type": "execute_result",
          "data": {
            "text/plain": [
              "Landscape_norm          0.064422\n",
              "Silhouette_norm         0.059946\n",
              "Entropy_norm1           0.075455\n",
              "Betti_curves_norm       0.077974\n",
              "PWG_kernel              0.077673\n",
              "PSS_kernel              0.062137\n",
              "PF_kernel               0.089186\n",
              "SW_kernel               0.084813\n",
              "Bottleneck_distance     0.105970\n",
              "Wasserstein_distance    0.098133\n",
              "dtype: float64"
            ]
          },
          "metadata": {},
          "execution_count": 226
        }
      ]
    },
    {
      "cell_type": "markdown",
      "metadata": {
        "id": "TmqTaJjZtYIT"
      },
      "source": [
        "# All datasets"
      ]
    },
    {
      "cell_type": "code",
      "metadata": {
        "colab": {
          "base_uri": "https://localhost:8080/"
        },
        "id": "SZr2a1S4tY4w",
        "outputId": "75bdaae7-91fe-4129-b1aa-2d3b54cfc25f"
      },
      "source": [
        "for name, df in df_dict.items():\n",
        "  if 'DTM' in name:\n",
        "    continue\n",
        "  df_query = df.drop_duplicates(subset=['name'])\n",
        "  df_search = df[~df.index.isin(df_query.index)].drop_duplicates(subset=['name'])\n",
        "\n",
        "  pers_col = next(col for col in df_query.columns if 'persistence' in col)\n",
        "  metrics_dict = {}\n",
        "  for index_q, row_q in tqdm(df_query.iterrows(), total=df_query.shape[0], desc = 'Progress'):\n",
        "    search_index = df_search.index[df_query['name'] == row_q['name']][0]\n",
        "    feature_dict = {}\n",
        "    diag_query = np.array(row_q[pers_col])\n",
        "    diag_X = data_preprocessing([diag_query])\n",
        "    for index_s, row_s in df_search.iterrows():\n",
        "      diag_search = np.array(row_s[pers_col])\n",
        "      diag_Y = data_preprocessing([diag_search])\n",
        "\n",
        "      #computing norms\n",
        "      #landscape\n",
        "      ls_norm = norm(row_q['Landscape'], row_s['Landscape'])\n",
        "\n",
        "      #silhouette norm 2\n",
        "      sh_norm = norm(row_q['Silhouette'], row_s['Silhouette'])\n",
        "\n",
        "      #entropy\n",
        "      et_norm = norm(row_q['Entropy_vector'], row_s['Entropy_vector'])\n",
        "      #Betti curves\n",
        "      bc_norm = norm(row_q['Betti_curves'], row_s['Betti_curves'])\n",
        "\n",
        "      #distances\n",
        "      #bottleneck\n",
        "      BD = gdr.BottleneckDistance(epsilon=.001)\n",
        "      BD.fit(diag_X)\n",
        "      bd = BD.transform(diag_Y)\n",
        "\n",
        "      #wasserstein\n",
        "      WD = gdr.WassersteinDistance(internal_p=2, order=2)\n",
        "      WD.fit(diag_X)\n",
        "      wd = WD.transform(diag_Y)\n",
        "\n",
        "      #kernels\n",
        "      ##PWG \n",
        "      PWG = gdr.PersistenceWeightedGaussianKernel(bandwidth=0.01, kernel_approx=None,\\\n",
        "                                          weight=lambda x: np.arctan(np.power(x[1], 1)))\n",
        "      PWG.fit(diag_X)\n",
        "      pwg = PWG.transform(diag_Y)\n",
        "\n",
        "      ##PSS\n",
        "      PSS = gdr.PersistenceScaleSpaceKernel(bandwidth=1.)\n",
        "      PSS.fit(diag_X)\n",
        "      pss = PSS.transform(diag_Y)\n",
        "\n",
        "      ##PF\n",
        "      PF = gdr.PersistenceFisherKernel(bandwidth_fisher=1., bandwidth=1.)\n",
        "      PF.fit(diag_X)\n",
        "      pf = PF.transform(diag_Y)\n",
        "\n",
        "      ##SW\n",
        "      SW = gdr.SlicedWassersteinKernel(bandwidth=.1, num_directions=100)\n",
        "      SW.fit(diag_X)\n",
        "      sw = SW.transform(diag_Y)\n",
        "\n",
        "      #adding to dict\n",
        "      feature_dict.setdefault(index_s, {})\n",
        "      feature_dict[index_s]['Landscape_norm'] = ls_norm\n",
        "\n",
        "      feature_dict[index_s]['Silhouette_norm'] = sh_norm\n",
        "\n",
        "      feature_dict[index_s]['Entropy_norm1'] = et_norm\n",
        "\n",
        "      feature_dict[index_s]['Betti_curves_norm'] = bc_norm\n",
        "\n",
        "      feature_dict[index_s]['PWG_kernel'] = pwg[0][0]\n",
        "      feature_dict[index_s]['PSS_kernel'] = pss[0][0]\n",
        "      feature_dict[index_s]['PF_kernel'] = pf[0][0]\n",
        "      feature_dict[index_s]['SW_kernel'] = sw[0][0]\n",
        "\n",
        "      feature_dict[index_s]['Bottleneck_distance'] = bd[0][0]\n",
        "      feature_dict[index_s]['Wasserstein_distance'] = wd[0][0]\n",
        "    dict_df = pd.DataFrame.from_dict(feature_dict).transpose()\n",
        "    dict_df.index.name = 'search_idx'\n",
        "    dict_df = dict_df.reset_index()\n",
        "    #get ranks\n",
        "    for metric in metrics_list:\n",
        "      if 'kernel' in metric:\n",
        "        asc = False\n",
        "      else:\n",
        "        asc = True\n",
        "      sorted_dict_df = dict_df.sort_values(by=metric, ascending=asc)\n",
        "      sorted_dict_df = sorted_dict_df.reset_index(drop=True)[['search_idx', metric]]\n",
        "      metrics_dict.setdefault(index_q, {})\n",
        "      metrics_dict[index_q][metric] = sorted_dict_df.index[sorted_dict_df['search_idx'] == search_index][0] + 1\n",
        "  rank_df =  pd.DataFrame.from_dict(metrics_dict).transpose()\n",
        "  rank_df_AP = 1 / rank_df\n",
        "  print(name, '\\n')\n",
        "  print('Mean Average Rank')\n",
        "  print(rank_df.mean())\n",
        "  print('Mean Average Precision')\n",
        "  print(rank_df_AP.mean())"
      ],
      "execution_count": null,
      "outputs": [
        {
          "output_type": "stream",
          "name": "stderr",
          "text": [
            "Progress: 100%|██████████| 80/80 [00:53<00:00,  1.50it/s]\n"
          ]
        },
        {
          "output_type": "stream",
          "name": "stdout",
          "text": [
            "af_orig \n",
            "\n",
            "Mean Average Rank\n",
            "Landscape_norm          38.6375\n",
            "Silhouette_norm         38.9125\n",
            "Entropy_norm1           37.9000\n",
            "Betti_curves_norm       36.7000\n",
            "PWG_kernel              36.4000\n",
            "PSS_kernel              40.5500\n",
            "PF_kernel               36.8375\n",
            "SW_kernel               36.9000\n",
            "Bottleneck_distance     36.3625\n",
            "Wasserstein_distance    36.7125\n",
            "dtype: float64\n",
            "Mean Average Precision\n",
            "Landscape_norm          0.064422\n",
            "Silhouette_norm         0.059946\n",
            "Entropy_norm1           0.075455\n",
            "Betti_curves_norm       0.077974\n",
            "PWG_kernel              0.077673\n",
            "PSS_kernel              0.062137\n",
            "PF_kernel               0.089186\n",
            "SW_kernel               0.084813\n",
            "Bottleneck_distance     0.105970\n",
            "Wasserstein_distance    0.098133\n",
            "dtype: float64\n"
          ]
        },
        {
          "output_type": "stream",
          "name": "stderr",
          "text": [
            "Progress: 100%|██████████| 80/80 [00:46<00:00,  1.71it/s]\n"
          ]
        },
        {
          "output_type": "stream",
          "name": "stdout",
          "text": [
            "af_sparse \n",
            "\n",
            "Mean Average Rank\n",
            "Landscape_norm          39.0375\n",
            "Silhouette_norm         38.8000\n",
            "Entropy_norm1           39.5500\n",
            "Betti_curves_norm       39.2000\n",
            "PWG_kernel              40.0375\n",
            "PSS_kernel              40.4625\n",
            "PF_kernel               39.7375\n",
            "SW_kernel               40.1625\n",
            "Bottleneck_distance     41.1000\n",
            "Wasserstein_distance    39.7250\n",
            "dtype: float64\n",
            "Mean Average Precision\n",
            "Landscape_norm          0.058692\n",
            "Silhouette_norm         0.076769\n",
            "Entropy_norm1           0.053032\n",
            "Betti_curves_norm       0.069783\n",
            "PWG_kernel              0.075317\n",
            "PSS_kernel              0.062027\n",
            "PF_kernel               0.069732\n",
            "SW_kernel               0.065683\n",
            "Bottleneck_distance     0.075916\n",
            "Wasserstein_distance    0.068163\n",
            "dtype: float64\n"
          ]
        },
        {
          "output_type": "stream",
          "name": "stderr",
          "text": [
            "Progress: 100%|██████████| 80/80 [00:51<00:00,  1.56it/s]\n"
          ]
        },
        {
          "output_type": "stream",
          "name": "stdout",
          "text": [
            "tf_orig \n",
            "\n",
            "Mean Average Rank\n",
            "Landscape_norm          37.1375\n",
            "Silhouette_norm         36.3625\n",
            "Entropy_norm1           34.8250\n",
            "Betti_curves_norm       34.5750\n",
            "PWG_kernel              36.2500\n",
            "PSS_kernel              40.4750\n",
            "PF_kernel               36.0125\n",
            "SW_kernel               34.9625\n",
            "Bottleneck_distance     40.5500\n",
            "Wasserstein_distance    35.2250\n",
            "dtype: float64\n",
            "Mean Average Precision\n",
            "Landscape_norm          0.068078\n",
            "Silhouette_norm         0.086690\n",
            "Entropy_norm1           0.065078\n",
            "Betti_curves_norm       0.089503\n",
            "PWG_kernel              0.063624\n",
            "PSS_kernel              0.062539\n",
            "PF_kernel               0.086739\n",
            "SW_kernel               0.076001\n",
            "Bottleneck_distance     0.059790\n",
            "Wasserstein_distance    0.084348\n",
            "dtype: float64\n"
          ]
        },
        {
          "output_type": "stream",
          "name": "stderr",
          "text": [
            "Progress: 100%|██████████| 80/80 [00:48<00:00,  1.66it/s]\n"
          ]
        },
        {
          "output_type": "stream",
          "name": "stdout",
          "text": [
            "tf_sparse \n",
            "\n",
            "Mean Average Rank\n",
            "Landscape_norm          37.7125\n",
            "Silhouette_norm         38.2875\n",
            "Entropy_norm1           39.4000\n",
            "Betti_curves_norm       37.7250\n",
            "PWG_kernel              37.3625\n",
            "PSS_kernel              40.5000\n",
            "PF_kernel               38.0750\n",
            "SW_kernel               37.3000\n",
            "Bottleneck_distance     39.8625\n",
            "Wasserstein_distance    38.2500\n",
            "dtype: float64\n",
            "Mean Average Precision\n",
            "Landscape_norm          0.090085\n",
            "Silhouette_norm         0.063807\n",
            "Entropy_norm1           0.057670\n",
            "Betti_curves_norm       0.072222\n",
            "PWG_kernel              0.071586\n",
            "PSS_kernel              0.063700\n",
            "PF_kernel               0.075864\n",
            "SW_kernel               0.070300\n",
            "Bottleneck_distance     0.060925\n",
            "Wasserstein_distance    0.065117\n",
            "dtype: float64\n"
          ]
        },
        {
          "output_type": "stream",
          "name": "stderr",
          "text": [
            "Progress: 100%|██████████| 80/80 [00:46<00:00,  1.72it/s]\n"
          ]
        },
        {
          "output_type": "stream",
          "name": "stdout",
          "text": [
            "tf_sparse_opt \n",
            "\n",
            "Mean Average Rank\n",
            "Landscape_norm          38.6625\n",
            "Silhouette_norm         35.3375\n",
            "Entropy_norm1           37.0375\n",
            "Betti_curves_norm       36.1625\n",
            "PWG_kernel              40.3875\n",
            "PSS_kernel              40.4750\n",
            "PF_kernel               37.3625\n",
            "SW_kernel               35.5625\n",
            "Bottleneck_distance     38.2500\n",
            "Wasserstein_distance    35.6750\n",
            "dtype: float64\n",
            "Mean Average Precision\n",
            "Landscape_norm          0.063906\n",
            "Silhouette_norm         0.075826\n",
            "Entropy_norm1           0.086595\n",
            "Betti_curves_norm       0.091739\n",
            "PWG_kernel              0.057763\n",
            "PSS_kernel              0.061481\n",
            "PF_kernel               0.081471\n",
            "SW_kernel               0.085463\n",
            "Bottleneck_distance     0.065579\n",
            "Wasserstein_distance    0.070620\n",
            "dtype: float64\n"
          ]
        },
        {
          "output_type": "stream",
          "name": "stderr",
          "text": [
            "Progress: 100%|██████████| 80/80 [00:51<00:00,  1.54it/s]\n"
          ]
        },
        {
          "output_type": "stream",
          "name": "stdout",
          "text": [
            "mf_orig \n",
            "\n",
            "Mean Average Rank\n",
            "Landscape_norm          37.9000\n",
            "Silhouette_norm         38.7000\n",
            "Entropy_norm1           38.5625\n",
            "Betti_curves_norm       38.1875\n",
            "PWG_kernel              40.9000\n",
            "PSS_kernel              40.6625\n",
            "PF_kernel               37.1500\n",
            "SW_kernel               38.4000\n",
            "Bottleneck_distance     42.0125\n",
            "Wasserstein_distance    37.9875\n",
            "dtype: float64\n",
            "Mean Average Precision\n",
            "Landscape_norm          0.053213\n",
            "Silhouette_norm         0.059131\n",
            "Entropy_norm1           0.056149\n",
            "Betti_curves_norm       0.084151\n",
            "PWG_kernel              0.049705\n",
            "PSS_kernel              0.060787\n",
            "PF_kernel               0.052724\n",
            "SW_kernel               0.075856\n",
            "Bottleneck_distance     0.045926\n",
            "Wasserstein_distance    0.071746\n",
            "dtype: float64\n"
          ]
        },
        {
          "output_type": "stream",
          "name": "stderr",
          "text": [
            "Progress: 100%|██████████| 80/80 [00:47<00:00,  1.69it/s]\n"
          ]
        },
        {
          "output_type": "stream",
          "name": "stdout",
          "text": [
            "mf_sparse \n",
            "\n",
            "Mean Average Rank\n",
            "Landscape_norm          40.4500\n",
            "Silhouette_norm         40.9250\n",
            "Entropy_norm1           40.5750\n",
            "Betti_curves_norm       40.2125\n",
            "PWG_kernel              41.6500\n",
            "PSS_kernel              40.4875\n",
            "PF_kernel               38.2500\n",
            "SW_kernel               39.9750\n",
            "Bottleneck_distance     42.7000\n",
            "Wasserstein_distance    41.1375\n",
            "dtype: float64\n",
            "Mean Average Precision\n",
            "Landscape_norm          0.040910\n",
            "Silhouette_norm         0.049905\n",
            "Entropy_norm1           0.055729\n",
            "Betti_curves_norm       0.047310\n",
            "PWG_kernel              0.063684\n",
            "PSS_kernel              0.059707\n",
            "PF_kernel               0.067829\n",
            "SW_kernel               0.061559\n",
            "Bottleneck_distance     0.034438\n",
            "Wasserstein_distance    0.057529\n",
            "dtype: float64\n"
          ]
        },
        {
          "output_type": "stream",
          "name": "stderr",
          "text": [
            "Progress: 100%|██████████| 80/80 [00:38<00:00,  2.10it/s]\n"
          ]
        },
        {
          "output_type": "stream",
          "name": "stdout",
          "text": [
            "as_orig \n",
            "\n",
            "Mean Average Rank\n",
            "Landscape_norm          37.0250\n",
            "Silhouette_norm         37.4000\n",
            "Entropy_norm1           38.5500\n",
            "Betti_curves_norm       37.0750\n",
            "PWG_kernel              42.7750\n",
            "PSS_kernel              40.3000\n",
            "PF_kernel               38.6500\n",
            "SW_kernel               36.2000\n",
            "Bottleneck_distance     35.4875\n",
            "Wasserstein_distance    33.5750\n",
            "dtype: float64\n",
            "Mean Average Precision\n",
            "Landscape_norm          0.083643\n",
            "Silhouette_norm         0.072463\n",
            "Entropy_norm1           0.052962\n",
            "Betti_curves_norm       0.084442\n",
            "PWG_kernel              0.062424\n",
            "PSS_kernel              0.062223\n",
            "PF_kernel               0.111289\n",
            "SW_kernel               0.080565\n",
            "Bottleneck_distance     0.102052\n",
            "Wasserstein_distance    0.095786\n",
            "dtype: float64\n"
          ]
        },
        {
          "output_type": "stream",
          "name": "stderr",
          "text": [
            "Progress: 100%|██████████| 80/80 [00:36<00:00,  2.18it/s]\n"
          ]
        },
        {
          "output_type": "stream",
          "name": "stdout",
          "text": [
            "ts_orig \n",
            "\n",
            "Mean Average Rank\n",
            "Landscape_norm          39.8125\n",
            "Silhouette_norm         37.4750\n",
            "Entropy_norm1           37.1250\n",
            "Betti_curves_norm       36.5750\n",
            "PWG_kernel              40.3750\n",
            "PSS_kernel              40.5000\n",
            "PF_kernel               35.8500\n",
            "SW_kernel               35.2000\n",
            "Bottleneck_distance     39.5625\n",
            "Wasserstein_distance    37.8375\n",
            "dtype: float64\n",
            "Mean Average Precision\n",
            "Landscape_norm          0.063840\n",
            "Silhouette_norm         0.053224\n",
            "Entropy_norm1           0.074300\n",
            "Betti_curves_norm       0.067427\n",
            "PWG_kernel              0.048694\n",
            "PSS_kernel              0.062967\n",
            "PF_kernel               0.094493\n",
            "SW_kernel               0.068744\n",
            "Bottleneck_distance     0.073461\n",
            "Wasserstein_distance    0.066948\n",
            "dtype: float64\n"
          ]
        },
        {
          "output_type": "stream",
          "name": "stderr",
          "text": [
            "Progress: 100%|██████████| 80/80 [00:39<00:00,  2.04it/s]\n"
          ]
        },
        {
          "output_type": "stream",
          "name": "stdout",
          "text": [
            "ts_opt \n",
            "\n",
            "Mean Average Rank\n",
            "Landscape_norm          35.4750\n",
            "Silhouette_norm         39.1625\n",
            "Entropy_norm1           38.4750\n",
            "Betti_curves_norm       38.5625\n",
            "PWG_kernel              37.2500\n",
            "PSS_kernel              40.4250\n",
            "PF_kernel               38.3625\n",
            "SW_kernel               38.3625\n",
            "Bottleneck_distance     38.3375\n",
            "Wasserstein_distance    37.7500\n",
            "dtype: float64\n",
            "Mean Average Precision\n",
            "Landscape_norm          0.089924\n",
            "Silhouette_norm         0.072596\n",
            "Entropy_norm1           0.071979\n",
            "Betti_curves_norm       0.066455\n",
            "PWG_kernel              0.051331\n",
            "PSS_kernel              0.062227\n",
            "PF_kernel               0.067160\n",
            "SW_kernel               0.063487\n",
            "Bottleneck_distance     0.065615\n",
            "Wasserstein_distance    0.056420\n",
            "dtype: float64\n"
          ]
        },
        {
          "output_type": "stream",
          "name": "stderr",
          "text": [
            "Progress: 100%|██████████| 80/80 [00:38<00:00,  2.08it/s]"
          ]
        },
        {
          "output_type": "stream",
          "name": "stdout",
          "text": [
            "ms_orig \n",
            "\n",
            "Mean Average Rank\n",
            "Landscape_norm          41.9875\n",
            "Silhouette_norm         41.5875\n",
            "Entropy_norm1           41.3750\n",
            "Betti_curves_norm       40.0375\n",
            "PWG_kernel              38.5375\n",
            "PSS_kernel              40.5250\n",
            "PF_kernel               40.6250\n",
            "SW_kernel               40.0625\n",
            "Bottleneck_distance     41.2250\n",
            "Wasserstein_distance    39.3000\n",
            "dtype: float64\n",
            "Mean Average Precision\n",
            "Landscape_norm          0.064871\n",
            "Silhouette_norm         0.052505\n",
            "Entropy_norm1           0.066211\n",
            "Betti_curves_norm       0.083605\n",
            "PWG_kernel              0.054148\n",
            "PSS_kernel              0.062078\n",
            "PF_kernel               0.071151\n",
            "SW_kernel               0.086883\n",
            "Bottleneck_distance     0.060255\n",
            "Wasserstein_distance    0.084329\n",
            "dtype: float64\n"
          ]
        },
        {
          "output_type": "stream",
          "name": "stderr",
          "text": [
            "\n"
          ]
        }
      ]
    },
    {
      "cell_type": "code",
      "metadata": {
        "colab": {
          "base_uri": "https://localhost:8080/",
          "height": 589
        },
        "id": "C4CugWOPtnC9",
        "outputId": "b2fbda9f-972e-47cd-9d56-d918b1e5e9c4"
      },
      "source": [
        "\n",
        "df"
      ],
      "execution_count": null,
      "outputs": [
        {
          "output_type": "execute_result",
          "data": {
            "text/html": [
              "<div>\n",
              "<style scoped>\n",
              "    .dataframe tbody tr th:only-of-type {\n",
              "        vertical-align: middle;\n",
              "    }\n",
              "\n",
              "    .dataframe tbody tr th {\n",
              "        vertical-align: top;\n",
              "    }\n",
              "\n",
              "    .dataframe thead th {\n",
              "        text-align: right;\n",
              "    }\n",
              "</style>\n",
              "<table border=\"1\" class=\"dataframe\">\n",
              "  <thead>\n",
              "    <tr style=\"text-align: right;\">\n",
              "      <th></th>\n",
              "      <th>name</th>\n",
              "      <th>data_persistence</th>\n",
              "      <th>Landscape</th>\n",
              "      <th>Silhouette</th>\n",
              "      <th>Entropy_vector</th>\n",
              "      <th>Betti_curves</th>\n",
              "      <th>Entropy_scalar</th>\n",
              "    </tr>\n",
              "  </thead>\n",
              "  <tbody>\n",
              "    <tr>\n",
              "      <th>0</th>\n",
              "      <td>Blue_Collar_Man</td>\n",
              "      <td>[[0.1094097146, 0.12137259880000001], [0.12257...</td>\n",
              "      <td>[[0.0027359190000000003, 0.005471838000000001,...</td>\n",
              "      <td>[[0.0, 4.92894e-05, 9.85787e-05, 0.0001478681,...</td>\n",
              "      <td>[[0.1740598488, 0.1740598488, 0.1740598488, 0....</td>\n",
              "      <td>[[1.0, 1.0, 1.0, 1.0, 1.0, 1.0, 1.0, 1.0, 1.0,...</td>\n",
              "      <td>[5.4096585283]</td>\n",
              "    </tr>\n",
              "    <tr>\n",
              "      <th>1</th>\n",
              "      <td>Blue_Collar_Man</td>\n",
              "      <td>[[0.10456191470000001, 0.1074333735], [0.11090...</td>\n",
              "      <td>[[0.0027437115, 0.0054874231, 0.0082311346, 0....</td>\n",
              "      <td>[[0.0, 4.82775e-05, 9.65549e-05, 0.0001448324,...</td>\n",
              "      <td>[[0.18006625310000002, 0.18006625310000002, 0....</td>\n",
              "      <td>[[1.0, 1.0, 1.0, 1.0, 1.0, 2.0, 2.0, 3.0, 3.0,...</td>\n",
              "      <td>[5.55205177]</td>\n",
              "    </tr>\n",
              "    <tr>\n",
              "      <th>2</th>\n",
              "      <td>Addicted_To_Love</td>\n",
              "      <td>[[0.0679046642, 0.06818033920000001], [0.07322...</td>\n",
              "      <td>[[0.0027692639, 0.0055385278, 0.0083077918, 0....</td>\n",
              "      <td>[[0.0, 6.9536e-05, 0.0001390719, 0.0002086079,...</td>\n",
              "      <td>[[0.3346180579, 0.3346180579, 0.3346180579, 0....</td>\n",
              "      <td>[[1.0, 1.0, 1.0, 1.0, 1.0, 1.0, 1.0, 1.0, 1.0,...</td>\n",
              "      <td>[8.106067468100001]</td>\n",
              "    </tr>\n",
              "    <tr>\n",
              "      <th>3</th>\n",
              "      <td>Addicted_To_Love</td>\n",
              "      <td>[[0.1058075205, 0.1094096744], [0.1048539877, ...</td>\n",
              "      <td>[[0.0027473118, 0.0054946235, 0.00824193530000...</td>\n",
              "      <td>[[0.0, 8.81113e-05, 0.0001762226, 0.0002835577...</td>\n",
              "      <td>[[0.34514422380000004, 0.34514422380000004, 0....</td>\n",
              "      <td>[[1.0, 1.0, 1.0, 2.0, 2.0, 2.0, 2.0, 2.0, 2.0,...</td>\n",
              "      <td>[7.9458391145]</td>\n",
              "    </tr>\n",
              "    <tr>\n",
              "      <th>4</th>\n",
              "      <td>All_Tomorrow_s_Parties</td>\n",
              "      <td>[[0.1020223645, 0.10319306360000001], [0.10279...</td>\n",
              "      <td>[[0.0027412049, 0.0054824097, 0.0082236146, 0....</td>\n",
              "      <td>[[0.0, 5.2211000000000005e-05, 0.0001044219, 0...</td>\n",
              "      <td>[[0.18016593420000002, 0.18016593420000002, 0....</td>\n",
              "      <td>[[1.0, 1.0, 1.0, 1.0, 1.0, 1.0, 1.0, 1.0, 2.0,...</td>\n",
              "      <td>[5.4899468328]</td>\n",
              "    </tr>\n",
              "    <tr>\n",
              "      <th>...</th>\n",
              "      <td>...</td>\n",
              "      <td>...</td>\n",
              "      <td>...</td>\n",
              "      <td>...</td>\n",
              "      <td>...</td>\n",
              "      <td>...</td>\n",
              "      <td>...</td>\n",
              "    </tr>\n",
              "    <tr>\n",
              "      <th>159</th>\n",
              "      <td>What_s_Going_On</td>\n",
              "      <td>[[0.1759236747, 0.1806943227], [0.1733503382, ...</td>\n",
              "      <td>[[0.0026885189000000003, 0.005377037800000001,...</td>\n",
              "      <td>[[0.0, 7.95728e-05, 0.00015914570000000002, 0....</td>\n",
              "      <td>[[0.309578204, 0.309578204, 0.309578204, 0.615...</td>\n",
              "      <td>[[1.0, 1.0, 1.0, 2.0, 2.0, 2.0, 2.0, 2.0, 2.0,...</td>\n",
              "      <td>[7.6816156799]</td>\n",
              "    </tr>\n",
              "    <tr>\n",
              "      <th>160</th>\n",
              "      <td>We_Can_Work_It_Out</td>\n",
              "      <td>[[0.1273760457, 0.133167699], [0.1311880593, 0...</td>\n",
              "      <td>[[0.0026085343, 0.0052170686, 0.0078256029, 0....</td>\n",
              "      <td>[[0.0, 6.34127e-05, 0.0001268254, 0.0001902380...</td>\n",
              "      <td>[[0.36775235110000004, 0.36775235110000004, 0....</td>\n",
              "      <td>[[1.0, 1.0, 1.0, 1.0, 1.0, 1.0, 1.0, 1.0, 1.0,...</td>\n",
              "      <td>[7.0495690237]</td>\n",
              "    </tr>\n",
              "    <tr>\n",
              "      <th>161</th>\n",
              "      <td>We_Can_Work_It_Out</td>\n",
              "      <td>[[0.0834015483, 0.0889094239], [0.0906008435, ...</td>\n",
              "      <td>[[0.0021917821000000002, 0.0043835642000000005...</td>\n",
              "      <td>[[0.0, 0.0001340262, 0.0002680524, 0.000402078...</td>\n",
              "      <td>[[0.31727788560000003, 0.31727788560000003, 0....</td>\n",
              "      <td>[[1.0, 1.0, 1.0, 1.0, 1.0, 1.0, 1.0, 1.0, 1.0,...</td>\n",
              "      <td>[8.1308029254]</td>\n",
              "    </tr>\n",
              "    <tr>\n",
              "      <th>162</th>\n",
              "      <td>Yesterday</td>\n",
              "      <td>[[0.1891314084, 0.2037429114], [0.1981541631, ...</td>\n",
              "      <td>[[0.0028227816, 0.005645563100000001, 0.008468...</td>\n",
              "      <td>[[0.0, 0.00013198110000000002, 0.0002639622000...</td>\n",
              "      <td>[[0.3191602489, 0.3191602489, 0.3191602489, 0....</td>\n",
              "      <td>[[1.0, 1.0, 1.0, 1.0, 1.0, 1.0, 1.0, 1.0, 1.0,...</td>\n",
              "      <td>[7.9458674476]</td>\n",
              "    </tr>\n",
              "    <tr>\n",
              "      <th>163</th>\n",
              "      <td>Yesterday</td>\n",
              "      <td>[[0.2544588266, 0.2641751658], [0.2584842121, ...</td>\n",
              "      <td>[[0.0028227816, 0.005645563100000001, 0.008468...</td>\n",
              "      <td>[[0.0, 8.65392e-05, 0.0001730784, 0.0002596176...</td>\n",
              "      <td>[[0.3190544074, 0.3190544074, 0.3190544074, 0....</td>\n",
              "      <td>[[1.0, 1.0, 1.0, 1.0, 1.0, 1.0, 1.0, 1.0, 1.0,...</td>\n",
              "      <td>[7.3375300247]</td>\n",
              "    </tr>\n",
              "  </tbody>\n",
              "</table>\n",
              "<p>164 rows × 7 columns</p>\n",
              "</div>"
            ],
            "text/plain": [
              "                       name  ...       Entropy_scalar\n",
              "0           Blue_Collar_Man  ...       [5.4096585283]\n",
              "1           Blue_Collar_Man  ...         [5.55205177]\n",
              "2          Addicted_To_Love  ...  [8.106067468100001]\n",
              "3          Addicted_To_Love  ...       [7.9458391145]\n",
              "4    All_Tomorrow_s_Parties  ...       [5.4899468328]\n",
              "..                      ...  ...                  ...\n",
              "159         What_s_Going_On  ...       [7.6816156799]\n",
              "160      We_Can_Work_It_Out  ...       [7.0495690237]\n",
              "161      We_Can_Work_It_Out  ...       [8.1308029254]\n",
              "162               Yesterday  ...       [7.9458674476]\n",
              "163               Yesterday  ...       [7.3375300247]\n",
              "\n",
              "[164 rows x 7 columns]"
            ]
          },
          "metadata": {},
          "execution_count": 231
        }
      ]
    },
    {
      "cell_type": "code",
      "metadata": {
        "id": "LeMmowImt6io"
      },
      "source": [
        ""
      ],
      "execution_count": null,
      "outputs": []
    }
  ]
}